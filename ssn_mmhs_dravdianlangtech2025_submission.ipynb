{
  "cells": [
    {
      "cell_type": "markdown",
      "metadata": {
        "id": "oNO8_BzvGGBz"
      },
      "source": [
        "## Environment Setup"
      ]
    },
    {
      "cell_type": "code",
      "execution_count": null,
      "metadata": {
        "execution": {
          "iopub.execute_input": "2025-01-30T03:00:40.209344Z",
          "iopub.status.busy": "2025-01-30T03:00:40.209153Z",
          "iopub.status.idle": "2025-01-30T03:00:55.191000Z",
          "shell.execute_reply": "2025-01-30T03:00:55.190348Z",
          "shell.execute_reply.started": "2025-01-30T03:00:40.209325Z"
        },
        "id": "ytg_AVB-GIVT",
        "trusted": true
      },
      "outputs": [],
      "source": [
        "import os\n",
        "import pandas as pd\n",
        "import librosa # extract audio features\n",
        "import numpy as np\n",
        "from transformers import AutoTokenizer # to tokenize text\n",
        "import tensorflow as tf\n",
        "from sklearn.metrics import f1_score # evaluation\n",
        "from sklearn.model_selection import train_test_split\n",
        "import random\n",
        "\n",
        "import warnings\n",
        "warnings.filterwarnings(\"ignore\")"
      ]
    },
    {
      "cell_type": "code",
      "execution_count": null,
      "metadata": {
        "colab": {
          "base_uri": "https://localhost:8080/"
        },
        "id": "leUhPC0vNJD1",
        "outputId": "e69918a2-87cc-41af-8ac3-ff478654b608"
      },
      "outputs": [
        {
          "name": "stdout",
          "output_type": "stream",
          "text": [
            "Mounted at /content/drive\n"
          ]
        }
      ],
      "source": [
        "from google.colab import drive\n",
        "drive.mount('/content/drive')"
      ]
    },
    {
      "cell_type": "code",
      "execution_count": null,
      "metadata": {
        "id": "hMqBHcoCN0s-"
      },
      "outputs": [],
      "source": [
        "root_dir = '/content/drive/MyDrive/IndiaAI/data/DravidianLangTech2025_MultimodalHateSpeech'"
      ]
    },
    {
      "cell_type": "markdown",
      "metadata": {},
      "source": [
        "# Data Processing"
      ]
    },
    {
      "cell_type": "code",
      "execution_count": null,
      "metadata": {},
      "outputs": [],
      "source": [
        "# initialize text tokenizer\n",
        "tokenizer = AutoTokenizer.from_pretrained(\"ai4bharat/IndicBART\")\n",
        "\n",
        "# Function to extract MFCCs\n",
        "def extract_mfcc(audio_file, language, dir, sr=44100, n_mfcc=40, max_len=128):\n",
        "    file_path = f\"{root_dir}/{language}/{language}_{dir}/audio/{audio_file}.wav\"\n",
        "    y, sr = librosa.load(file_path, sr=sr)\n",
        "    mfcc = librosa.feature.mfcc(y=y, sr=sr, n_mfcc=n_mfcc)\n",
        "    if mfcc.shape[1] < max_len:\n",
        "        pad_width = max_len - mfcc.shape[1]\n",
        "        mfcc = np.pad(mfcc, pad_width=((0, 0), (0, pad_width)), mode='constant')\n",
        "    else:\n",
        "        mfcc = mfcc[:, :max_len]\n",
        "    return mfcc.T"
      ]
    },
    {
      "cell_type": "markdown",
      "metadata": {
        "id": "WOUVrCm3F5rN"
      },
      "source": [
        "# Model Components and Definition"
      ]
    },
    {
      "cell_type": "code",
      "execution_count": null,
      "metadata": {
        "execution": {
          "iopub.execute_input": "2025-01-09T07:21:26.022712Z",
          "iopub.status.busy": "2025-01-09T07:21:26.022289Z",
          "iopub.status.idle": "2025-01-09T07:21:26.031018Z",
          "shell.execute_reply": "2025-01-09T07:21:26.029604Z",
          "shell.execute_reply.started": "2025-01-09T07:21:26.022682Z"
        },
        "id": "joZRC3xrGTa6",
        "trusted": true
      },
      "outputs": [],
      "source": [
        "# Positional Encoder (Tensorflow Transformer Tutorial)\n",
        "def positional_encoding(length, depth):\n",
        "  depth = depth/2\n",
        "  positions = np.arange(length)[:, np.newaxis]\n",
        "  depths = np.arange(depth)[np.newaxis, :]/depth\n",
        "  angle_rates = 1 / (10000**depths)\n",
        "  angle_rads = positions * angle_rates\n",
        "  pos_encoding = np.concatenate([np.sin(angle_rads), np.cos(angle_rads)], axis=-1)\n",
        "  return tf.cast(pos_encoding, dtype=tf.float32)\n",
        "\n",
        "\n",
        "class PositionalEncoder(tf.keras.layers.Layer):\n",
        "  def __init__(self,d_model):\n",
        "    super().__init__()\n",
        "    self.d_model = d_model\n",
        "    self.pos_encoding = positional_encoding(length=2048, depth=d_model)\n",
        "\n",
        "\n",
        "  def call(self, x):\n",
        "    length = tf.shape(x)[1]\n",
        "    x = self.pos_encoding[tf.newaxis, :length, :]\n",
        "    return x\n"
      ]
    },
    {
      "cell_type": "code",
      "execution_count": null,
      "metadata": {
        "execution": {
          "iopub.execute_input": "2025-01-09T07:21:28.653635Z",
          "iopub.status.busy": "2025-01-09T07:21:28.653024Z",
          "iopub.status.idle": "2025-01-09T07:21:28.666146Z",
          "shell.execute_reply": "2025-01-09T07:21:28.664457Z",
          "shell.execute_reply.started": "2025-01-09T07:21:28.653582Z"
        },
        "id": "zuwyL85JGklc",
        "trusted": true
      },
      "outputs": [],
      "source": [
        "# Speech and Text Sampling layers  - Inputs to Transformer modules\n",
        "class SpeechSampling(tf.keras.layers.Layer):\n",
        "    def __init__(self, d_model):\n",
        "        super(SpeechSampling, self).__init__()\n",
        "        self.lstm = tf.keras.layers.LSTM(d_model, return_sequences=True)\n",
        "        self.positional_encoder = PositionalEncoder(d_model=d_model)\n",
        "\n",
        "    def call(self, x):\n",
        "        lstm_out = self.lstm(x)\n",
        "        pos_enc = self.positional_encoder(x)\n",
        "        return lstm_out + pos_enc\n",
        "\n",
        "class TextSampling(tf.keras.layers.Layer):\n",
        "    def __init__(self, d_model, vocab_size):\n",
        "        super(TextSampling, self).__init__()\n",
        "        self.d_model = d_model\n",
        "        self.vocab_size = vocab_size\n",
        "        self.embedding = tf.keras.layers.Embedding(vocab_size, d_model)\n",
        "        self.positional_encoder = PositionalEncoder(d_model=d_model)\n",
        "\n",
        "    def call(self, x):\n",
        "        x = self.embedding(x)\n",
        "        x *= tf.math.sqrt(tf.cast(self.d_model, tf.float32))\n",
        "        x = x + self.positional_encoder(x)\n",
        "        return x\n"
      ]
    },
    {
      "cell_type": "code",
      "execution_count": null,
      "metadata": {
        "execution": {
          "iopub.execute_input": "2025-01-09T07:21:31.653104Z",
          "iopub.status.busy": "2025-01-09T07:21:31.652543Z",
          "iopub.status.idle": "2025-01-09T07:21:31.665336Z",
          "shell.execute_reply": "2025-01-09T07:21:31.663461Z",
          "shell.execute_reply.started": "2025-01-09T07:21:31.653062Z"
        },
        "id": "l5gATQ-dG1MS",
        "trusted": true
      },
      "outputs": [],
      "source": [
        "# Attention layers (Self Attn, Cross Attn and Causal Attn) - Tensorflow NMT Transformer Tutorial\n",
        "class BaseAttention(tf.keras.layers.Layer):\n",
        "  def __init__(self, **kwargs):\n",
        "    super().__init__()\n",
        "    self.mha = tf.keras.layers.MultiHeadAttention(**kwargs)\n",
        "    self.layernorm = tf.keras.layers.LayerNormalization()\n",
        "    self.add = tf.keras.layers.Add()\n",
        "\n",
        "\n",
        "class CrossAttention(BaseAttention):\n",
        "  def call(self, x, context):\n",
        "    attn_output, attn_scores = self.mha(query=x, key=context, value=context, return_attention_scores=True)\n",
        "    self.last_attn_scores = attn_scores\n",
        "    x = self.add([x, attn_output])\n",
        "    x = self.layernorm(x)\n",
        "\n",
        "    return x\n",
        "\n",
        "class GlobalSelfAttention(BaseAttention):\n",
        "  def call(self, x):\n",
        "    attn_output = self.mha(query=x, value=x, key=x)\n",
        "    x = self.add([x, attn_output])\n",
        "    x = self.layernorm(x)\n",
        "    return x\n",
        "\n",
        "class CausalSelfAttention(BaseAttention):\n",
        "  def call(self, x):\n",
        "    attn_output = self.mha(query=x, value=x, key=x)\n",
        "    x = self.add([x, attn_output])\n",
        "    x = self.layernorm(x)\n",
        "    return x\n"
      ]
    },
    {
      "cell_type": "code",
      "execution_count": null,
      "metadata": {
        "execution": {
          "iopub.execute_input": "2025-01-09T07:21:52.883034Z",
          "iopub.status.busy": "2025-01-09T07:21:52.882565Z",
          "iopub.status.idle": "2025-01-09T07:21:52.893401Z",
          "shell.execute_reply": "2025-01-09T07:21:52.891977Z",
          "shell.execute_reply.started": "2025-01-09T07:21:52.882997Z"
        },
        "id": "o88_2VgKHECR",
        "trusted": true
      },
      "outputs": [],
      "source": [
        "# Feedforward Layer\n",
        "class Sequential_Sampling(tf.keras.layers.Layer):\n",
        "  def __init__(self, d_model, dff, dropout_rate, name=\"Sequential_Sampling\", **kwargs):\n",
        "    super(Sequential_Sampling, self).__init__(name=name, **kwargs)\n",
        "    self.d_model = d_model\n",
        "    self.dff = dff\n",
        "    self.dropout_rate = dropout_rate\n",
        "\n",
        "    self.dense1 = tf.keras.layers.Dense(dff, activation='relu')\n",
        "    self.dense2 = tf.keras.layers.Dense(d_model)\n",
        "    self.dropout = tf.keras.layers.Dropout(dropout_rate)\n",
        "\n",
        "\n",
        "  def call(self, x):\n",
        "    x = self.dense1(x)\n",
        "    x = self.dense2(x)\n",
        "    x = self.dropout(x)\n",
        "    return x\n",
        "\n",
        "\n",
        "class FeedForward(tf.keras.layers.Layer):\n",
        "  def __init__(self, d_model, dff, dropout_rate=0.1):\n",
        "    super().__init__()\n",
        "    self.d_model = d_model\n",
        "    self.dff = dff\n",
        "    self.dropout_rate = dropout_rate\n",
        "\n",
        "    self.seq = Sequential_Sampling(d_model, dff, dropout_rate)\n",
        "    self.add = tf.keras.layers.Add()\n",
        "    self.layer_norm = tf.keras.layers.LayerNormalization()\n",
        "\n",
        "  def call(self, x):\n",
        "\n",
        "    x = self.add([x, self.seq(x)])\n",
        "    x = self.layer_norm(x)\n",
        "    return x\n"
      ]
    },
    {
      "cell_type": "code",
      "execution_count": null,
      "metadata": {
        "execution": {
          "iopub.execute_input": "2025-01-09T07:21:55.849453Z",
          "iopub.status.busy": "2025-01-09T07:21:55.848583Z",
          "iopub.status.idle": "2025-01-09T07:21:55.859197Z",
          "shell.execute_reply": "2025-01-09T07:21:55.857674Z",
          "shell.execute_reply.started": "2025-01-09T07:21:55.849406Z"
        },
        "id": "-SbrPxV6HT8l",
        "trusted": true
      },
      "outputs": [],
      "source": [
        "# The Encoder\n",
        "class EncoderLayer(tf.keras.layers.Layer):\n",
        "  def __init__(self,*, d_model, num_heads, dff, dropout_rate=0.1):\n",
        "    super().__init__()\n",
        "\n",
        "    self.self_attention = GlobalSelfAttention(num_heads=num_heads, key_dim=d_model, dropout=dropout_rate)\n",
        "    self.ffn = FeedForward(d_model, dff)\n",
        "\n",
        "  def call(self, x):\n",
        "    x = self.self_attention(x)\n",
        "    x = self.ffn(x)\n",
        "    return x\n",
        "\n",
        "\n",
        "class Encoder(tf.keras.layers.Layer):\n",
        "  def __init__(self, *, num_layers, d_model, num_heads, dff, dropout_rate=0.1):\n",
        "    super().__init__()\n",
        "\n",
        "    self.d_model = d_model\n",
        "    self.num_layers = num_layers\n",
        "\n",
        "    self.enc_layers = [\n",
        "        EncoderLayer(d_model=d_model,\n",
        "                     num_heads=num_heads,\n",
        "                     dff=dff,\n",
        "                     dropout_rate=dropout_rate)\n",
        "        for _ in range(num_layers)]\n",
        "    self.dropout = tf.keras.layers.Dropout(dropout_rate)\n",
        "\n",
        "  def call(self, x):\n",
        "\n",
        "    x = self.dropout(x)\n",
        "\n",
        "    for i in range(self.num_layers):\n",
        "      x = self.enc_layers[i](x)\n",
        "\n",
        "    return x"
      ]
    },
    {
      "cell_type": "code",
      "execution_count": null,
      "metadata": {
        "execution": {
          "iopub.execute_input": "2025-01-09T07:21:58.972889Z",
          "iopub.status.busy": "2025-01-09T07:21:58.972371Z",
          "iopub.status.idle": "2025-01-09T07:21:58.983434Z",
          "shell.execute_reply": "2025-01-09T07:21:58.982035Z",
          "shell.execute_reply.started": "2025-01-09T07:21:58.972848Z"
        },
        "id": "nM_IDYBkHbl6",
        "trusted": true
      },
      "outputs": [],
      "source": [
        "# The Decoder\n",
        "class DecoderLayer(tf.keras.layers.Layer):\n",
        "  def __init__(self, *, d_model, num_heads, dff, dropout_rate=0.1):\n",
        "    super(DecoderLayer, self).__init__()\n",
        "\n",
        "    self.causal_self_attention = CausalSelfAttention(num_heads=num_heads, key_dim=d_model, dropout=dropout_rate)\n",
        "    self.cross_attention = CrossAttention(num_heads=num_heads, key_dim=d_model, dropout=dropout_rate)\n",
        "    self.ffn = FeedForward(d_model, dff)\n",
        "\n",
        "  def call(self, x, context):\n",
        "    x = self.causal_self_attention(x=x)\n",
        "    x = self.cross_attention(x=x, context=context)\n",
        "\n",
        "    self.last_attn_scores = self.cross_attention.last_attn_scores\n",
        "\n",
        "    x = self.ffn(x)\n",
        "    return x\n",
        "\n",
        "\n",
        "class Decoder(tf.keras.layers.Layer):\n",
        "  def __init__(self, *, num_layers, d_model, num_heads, dff, dropout_rate=0.1):\n",
        "    super(Decoder, self).__init__()\n",
        "\n",
        "    self.d_model = d_model\n",
        "    self.num_layers = num_layers\n",
        "\n",
        "    self.dropout = tf.keras.layers.Dropout(dropout_rate)\n",
        "    self.dec_layers = [\n",
        "        DecoderLayer(d_model=d_model, num_heads=num_heads,\n",
        "                     dff=dff, dropout_rate=dropout_rate)\n",
        "        for _ in range(num_layers)]\n",
        "\n",
        "    self.last_attn_scores = None\n",
        "\n",
        "  def call(self, x, context):\n",
        "    x = self.dropout(x)\n",
        "\n",
        "    for i in range(self.num_layers):\n",
        "      x  = self.dec_layers[i](x, context)\n",
        "\n",
        "    self.last_attn_scores = self.dec_layers[-1].last_attn_scores\n",
        "    return x\n"
      ]
    },
    {
      "cell_type": "code",
      "execution_count": null,
      "metadata": {
        "execution": {
          "iopub.execute_input": "2025-01-09T07:22:01.698702Z",
          "iopub.status.busy": "2025-01-09T07:22:01.698268Z",
          "iopub.status.idle": "2025-01-09T07:22:01.716152Z",
          "shell.execute_reply": "2025-01-09T07:22:01.714699Z",
          "shell.execute_reply.started": "2025-01-09T07:22:01.698669Z"
        },
        "id": "x2tCO5vyHhfW",
        "trusted": true
      },
      "outputs": [],
      "source": [
        "# Model Definition\n",
        "class BaseClassifier_1(tf.keras.models.Model):\n",
        "    def __init__(self, num_layers, d_model, num_heads, dff, input_vocab_size, target_vocab_size, dropout_rate, **kwargs):\n",
        "        super(BaseClassifier_1, self).__init__()\n",
        "\n",
        "        self.speech_pre = SpeechSampling(d_model=d_model)\n",
        "        self.text_pre = TextSampling(d_model=d_model, vocab_size=target_vocab_size)\n",
        "\n",
        "        self.encoder = Encoder(num_layers=num_layers, d_model=d_model, num_heads=num_heads, dff=dff, dropout_rate=dropout_rate)\n",
        "        self.decoder = Decoder(num_layers=num_layers, d_model=d_model, num_heads=num_heads, dff=dff, dropout_rate=dropout_rate)\n",
        "\n",
        "    def call(self, inputs):\n",
        "        speech_features, text_features = inputs\n",
        "\n",
        "        # Speech features processed by encoder\n",
        "        speech_processed = self.speech_pre(speech_features)\n",
        "        # Text features processed by decoder using speech context\n",
        "        text_processed = self.text_pre(text_features)\n",
        "\n",
        "        encoded_speech = self.encoder(speech_processed)\n",
        "        decoded_text = self.decoder(text_processed, encoded_speech)\n",
        "\n",
        "        return decoded_text\n",
        "\n",
        "\n",
        "class BaseClassifier_2(tf.keras.models.Model):\n",
        "    def __init__(self, num_layers, d_model, num_heads, dff, input_vocab_size, target_vocab_size, dropout_rate, **kwargs):\n",
        "        super(BaseClassifier_2, self).__init__()\n",
        "\n",
        "        self.speech_pre = SpeechSampling(d_model=d_model)\n",
        "        self.text_pre = TextSampling(d_model=d_model, vocab_size=target_vocab_size)\n",
        "\n",
        "        self.encoder = Encoder(num_layers=num_layers, d_model=d_model, num_heads=num_heads, dff=dff, dropout_rate=dropout_rate)\n",
        "        self.decoder = Decoder(num_layers=num_layers, d_model=d_model, num_heads=num_heads, dff=dff, dropout_rate=dropout_rate)\n",
        "\n",
        "    def call(self, inputs):\n",
        "        speech_features, text_features = inputs\n",
        "\n",
        "        # Text features processed by encoder\n",
        "        text_processed = self.text_pre(text_features)\n",
        "        # Speech features processed by decoder using text context\n",
        "        speech_processed = self.speech_pre(speech_features)\n",
        "\n",
        "        encoded_text = self.encoder(text_processed)\n",
        "        decoded_speech = self.decoder(speech_processed, encoded_text)\n",
        "\n",
        "        return decoded_speech\n",
        "\n",
        "\n",
        "class Classifier(tf.keras.models.Model):\n",
        "    def __init__(self, num_layers, d_model, num_heads, dff, input_vocab_size, target_vocab_size, num_classes, dropout_rate, **kwargs):\n",
        "        super(Classifier, self).__init__()\n",
        "\n",
        "        self.base_classifier_1 = BaseClassifier_1(num_layers=num_layers, d_model=d_model, num_heads=num_heads, dff=dff, input_vocab_size=input_vocab_size, target_vocab_size=target_vocab_size, dropout_rate=dropout_rate)\n",
        "        self.base_classifier_2 = BaseClassifier_2(num_layers=num_layers, d_model=d_model, num_heads=num_heads, dff=dff, input_vocab_size=input_vocab_size, target_vocab_size=target_vocab_size, dropout_rate=dropout_rate)\n",
        "\n",
        "        self.lstm_1 = tf.keras.layers.LSTM(units=d_model, return_sequences=True, dropout=dropout_rate)\n",
        "        self.lstm_2 = tf.keras.layers.LSTM(units=d_model, return_sequences=True, dropout=dropout_rate)\n",
        "\n",
        "        self.global_pool_1 = tf.keras.layers.GlobalAveragePooling1D()\n",
        "        self.global_pool_2 = tf.keras.layers.GlobalAveragePooling1D()\n",
        "\n",
        "        self.concat = tf.keras.layers.Concatenate(axis=-1)\n",
        "        self.final_layer = tf.keras.layers.Dense(num_classes, activation='softmax')\n",
        "\n",
        "    def call(self, inputs):\n",
        "        speech_features, text_features = inputs\n",
        "\n",
        "        # Pipeline 1\n",
        "        out1 = self.base_classifier_1([speech_features, text_features])\n",
        "\n",
        "        # Pipeline 2\n",
        "        out2 = self.base_classifier_2([speech_features, text_features])\n",
        "\n",
        "        # LSTM layers\n",
        "        lstm_out1 = self.lstm_1(out1)\n",
        "        lstm_out2 = self.lstm_2(out2)\n",
        "\n",
        "        # Global pooling\n",
        "        pooled_out1 = self.global_pool_1(lstm_out1)\n",
        "        pooled_out2 = self.global_pool_2(lstm_out2)\n",
        "\n",
        "        # Concatenate and classify\n",
        "        concatenated = self.concat([pooled_out1, pooled_out2])\n",
        "        return self.final_layer(concatenated)\n",
        "\n"
      ]
    },
    {
      "cell_type": "markdown",
      "metadata": {
        "id": "wpqfgz48KKfa"
      },
      "source": [
        "# Multimodal Hate Speech Detection in Tamil"
      ]
    },
    {
      "cell_type": "code",
      "execution_count": null,
      "metadata": {
        "colab": {
          "base_uri": "https://localhost:8080/",
          "height": 206
        },
        "execution": {
          "iopub.execute_input": "2025-01-09T07:43:35.905307Z",
          "iopub.status.busy": "2025-01-09T07:43:35.904840Z",
          "iopub.status.idle": "2025-01-09T07:43:36.237359Z",
          "shell.execute_reply": "2025-01-09T07:43:36.235799Z",
          "shell.execute_reply.started": "2025-01-09T07:43:35.905272Z"
        },
        "id": "emQCo__YKKfd",
        "outputId": "df19ec3c-b33e-42b9-fc0e-54f0bbe8b265",
        "trusted": true
      },
      "outputs": [
        {
          "data": {
            "application/vnd.google.colaboratory.intrinsic+json": {
              "summary": "{\n  \"name\": \"data\",\n  \"rows\": 509,\n  \"fields\": [\n    {\n      \"column\": \"Class Label Short\",\n      \"properties\": {\n        \"dtype\": \"category\",\n        \"num_unique_values\": 5,\n        \"samples\": [\n          \"N\",\n          \"G\",\n          \"R\"\n        ],\n        \"semantic_type\": \"\",\n        \"description\": \"\"\n      }\n    },\n    {\n      \"column\": \"File Name\",\n      \"properties\": {\n        \"dtype\": \"string\",\n        \"num_unique_values\": 509,\n        \"samples\": [\n          \"NH_TA_002_N_M_012_007\",\n          \"H_TA_001_P_M_002_002\",\n          \"H_TA_003_C_F_011_003\"\n        ],\n        \"semantic_type\": \"\",\n        \"description\": \"\"\n      }\n    },\n    {\n      \"column\": \"Transcript\",\n      \"properties\": {\n        \"dtype\": \"string\",\n        \"num_unique_values\": 506,\n        \"samples\": [\n          \"\\u0ba8\\u0bb2\\u0bcd\\u0bb2 \\u0b92\\u0bb0\\u0bc1 \\u0ba8\\u0bcb\\u0baf\\u0bc8 \\u0b95\\u0bc1\\u0ba3\\u0baa\\u0bcd\\u0baa\\u0b9f\\u0bc1\\u0ba4\\u0bcd\\u0ba4\\u0bc1\\u0bb5\\u0ba4\\u0bc1 \\u0b85\\u0bb1\\u0bcd\\u0baa\\u0bc1\\u0ba4\\u0bae\\u0bcd \\u0baa\\u0ba3\\u0bcd\\u0ba3\\u0bc1\\u0bb5\\u0bbe\\u0bb0\\u0bc1 \\u0b86\\u0b9f\\u0bcd\\u0b9f\\u0bc1\\u0b95\\u0bcd\\u0b95\\u0bc1\\u0b9f\\u0bcd\\u0b9f\\u0bbf \\u0baa\\u0ba3\\u0bcd\\u0ba3\\u0bc1\\u0bb5\\u0bbe\\u0bb0\\u0bcd \\u0b8e\\u0ba9\\u0bcd\\u0bb1\\u0bc1 \\u0b9a\\u0bca\\u0bb2\\u0bcd\\u0bb2\\u0bbf \\u0b8f\\u0ba9\\u0bcd \\u0b87\\u0ba8\\u0bcd\\u0ba4 \\u0bae\\u0b95\\u0bcd\\u0b95\\u0bb3\\u0bc8 \\u0b8f\\u0bae\\u0bbe\\u0ba4\\u0bcd\\u0ba4\\u0bc1\\u0bb1\\u0bc0\\u0b99\\u0bcd\\u0b95 \\u0b8f\\u0ba9\\u0bcd \\u0baa\\u0bc8\\u0baa\\u0bbf\\u0bb3\\u0bcd \\u0bb5\\u0b9a\\u0ba9\\u0ba4\\u0bcd\\u0ba4\\u0bc8 \\u0bae\\u0bbe\\u0ba4\\u0bcd\\u0ba4\\u0bbf \\u0bae\\u0bbe\\u0ba4\\u0bcd\\u0ba4\\u0bbf \\u0b87\\u0ba8\\u0bcd\\u0ba4 \\u0bae\\u0b95\\u0bcd\\u0b95\\u0bb3\\u0bcd \\u0bae\\u0ba4\\u0bcd\\u0ba4\\u0bbf\\u0baf\\u0bbf\\u0bb2\\u0bcd \\u0baa\\u0bbf\\u0bb0\\u0b9a\\u0b99\\u0bcd\\u0b95\\u0bae\\u0bcd \\u0baa\\u0ba3\\u0bcd\\u0ba3\\u0bbf \\u0b8f\\u0ba9\\u0bcd \\u0b85\\u0bb1\\u0bbf\\u0baf\\u0bbe\\u0ba4 \\u0bae\\u0b95\\u0bcd\\u0b95\\u0bb3\\u0bcd \\u0ba8\\u0bc0\\u0b99\\u0bcd\\u0b95 \\u0b8f\\u0bae\\u0bbe\\u0bb1\\u0bcd\\u0bb1\\u0bbf\\u0b95\\u0bcd \\u0b95\\u0bca\\u0ba3\\u0bcd\\u0b9f\\u0bbf\\u0bb0\\u0bc1\\u0b95\\u0bcd\\u0b95\\u0bbf\\u0bb1\",\n          \"\\u0baa\\u0bbf\\u0bb1\\u0baa\\u0bcd\\u0baa\\u0bc1\\u0b95\\u0bcd\\u0b95\\u0bc1\\u0bae\\u0bcd \\u0b87\\u0bb1\\u0baa\\u0bcd\\u0baa\\u0bc1\\u0b95\\u0bcd\\u0b95\\u0bc1\\u0bae\\u0bcd \\u0b87\\u0b9f\\u0bc8\\u0baa\\u0bcd\\u0baa\\u0b9f\\u0bcd\\u0b9f \\u0b95\\u0bca\\u0b9e\\u0bcd\\u0b9a \\u0ba8\\u0bc7\\u0bb0\\u0ba4\\u0bcd\\u0ba4\\u0bc8\\u0ba4\\u0bcd\\u0ba4\\u0bbe\\u0ba9\\u0bcd \\u0bb5\\u0bbe\\u0bb4\\u0bcd\\u0b95\\u0bcd\\u0b95\\u0bc8\\u0baf\\u0bbf\\u0bb2\\u0bcd \\u0b9a\\u0bca\\u0bb2\\u0bcd\\u0bb2\\u0bc1\\u0bb5\\u0bbe\\u0ba9\\u0bcd \\u0b85\\u0ba8\\u0bcd\\u0ba4 \\u0b95\\u0bca\\u0b9e\\u0bcd\\u0b9a \\u0ba8\\u0bc7\\u0bb0\\u0ba4\\u0bcd\\u0ba4\\u0bc1\\u0bb2 \\u0b92\\u0bb0\\u0bc1\\u0ba4\\u0bcd\\u0ba4\\u0bb0\\u0bc1\\u0b95\\u0bcd\\u0b95\\u0bc1 \\u0b92\\u0bb0\\u0bc1\\u0ba4\\u0bcd\\u0ba4\\u0bb0\\u0bcd \\u0ba4\\u0bc1\\u0bb0\\u0bcb\\u0b95\\u0bae\\u0bcd \\u0b9a\\u0bc6\\u0baf\\u0bcd\\u0baf\\u0bbe\\u0bae\\u0bc7 \\u0b95\\u0bc6\\u0b9f\\u0bc1\\u0ba4\\u0bb2\\u0bcd \\u0b8e\\u0bb2\\u0bcd\\u0bb2\\u0bbe\\u0bae\\u0bcd \\u0ba8\\u0bbe\\u0ba9\\u0bc1\\u0bae\\u0bcd \\u0b8e\\u0ba9\\u0bcd\\u0bb1\\u0bc1 \\u0ba8\\u0bbf\\u0ba9\\u0bc8\\u0b95\\u0bcd\\u0b95\\u0bbe\\u0bae\\u0bb2\\u0bcd \\u0b95\\u0bc2\\u0b9f \\u0b9a\\u0bc7\\u0bb0\\u0bcd\\u0ba8\\u0bcd\\u0ba4\\u0bc1 \\u0b92\\u0ba9\\u0bcd\\u0ba9\\u0bbe \\u0b9a\\u0ba8\\u0bcd\\u0ba4\\u0bcb\\u0b9a\\u0bae\\u0bbe \\u0bb5\\u0bbe\\u0bb4\\u0bcd\\u0bb1\\u0ba4\\u0bc1\\u0ba4\\u0bbe\\u0ba9\\u0bcd \\u0bb5\\u0bbe\\u0bb4\\u0bcd\\u0b95\\u0bcd\\u0b95\\u0bc8 \\u0bb5\\u0bbe\\u0bb4\\u0bcd\\u0b95\\u0bcd\\u0b95\\u0bc8 \\u0b85\\u0baa\\u0bcd\\u0baa\\u0b9f\\u0bbf \\u0bb5\\u0bbe\\u0bb4\\u0bcd\\u0b95\\u0bbf\\u0bb1\\u0bb5\\u0ba9\\u0bcd \\u0ba4\\u0bbe\\u0ba9\\u0bcd \\u0b89\\u0ba3\\u0bcd\\u0bae\\u0bc8\\u0baf\\u0bbe\\u0ba9 \\u0bae\\u0ba9\\u0bc1\",\n          \"\\u0b8e\\u0bb8\\u0bcd \\u0b8e\\u0ba9\\u0b95\\u0bcd\\u0b95\\u0bc1 \\u0b9f\\u0bbe\\u0bb0\\u0bcd\\u0b9a\\u0bb0\\u0bcd\\u0b95\\u0bb3\\u0bcd \\u0b87\\u0bb0\\u0bc1\\u0b95\\u0bcd\\u0b95\\u0bc1 \\u0b8f\\u0ba9\\u0bcd\\u0ba9\\u0bbe \\u0ba8\\u0bbe\\u0ba9\\u0bcd \\u0bb0\\u0bca\\u0bae\\u0bcd\\u0baa \\u0b95\\u0bae\\u0bcd\\u0bae\\u0bbf \\u0ba4\\u0bc2\\u0b99\\u0bcd\\u0b95\\u0bc1\\u0bb5\\u0bc7\\u0ba9\\u0bcd \\u0b87\\u0ba4\\u0bc1 \\u0b87\\u0bb0\\u0bc1\\u0b95\\u0bcd\\u0b95\\u0bbf\\u0bb1\\u0ba4\\u0bc1\\u0ba9\\u0bbe\\u0bb2 \\u0ba8\\u0bbe\\u0ba9\\u0bcd \\u0b87\\u0ba4\\u0bc8 \\u0b95\\u0bb5\\u0bb0\\u0bcd \\u0baa\\u0ba3\\u0bcd\\u0ba3\\u0bbf\\u0b95\\u0bcd\\u0b95\\u0bbf\\u0b9f\\u0bcd\\u0b9f\\u0bc7 \\u0b87\\u0bb0\\u0bc1\\u0b95\\u0bcd\\u0b95 \\u0bae\\u0bc1\\u0b9f\\u0bbf\\u0baf\\u0bbe\\u0ba4\\u0bc1 \\u0b8e\\u0ba9\\u0bcd\\u0ba9 \\u0baa\\u0b9f\\u0bbf\\u0ba4\\u0bcd\\u0ba4\\u0bbe \\u0ba8\\u0bbe\\u0ba9\\u0bcd \\u0b87\\u0bb0\\u0bc1\\u0b95\\u0bcd\\u0b95\\u0bbf\\u0bb1 \\u0bae\\u0bbe\\u0ba4\\u0bbf\\u0bb0\\u0bbf\\u0baf\\u0bc7 \\u0ba8\\u0bbe\\u0ba9\\u0bcd \\u0b85\\u0b95\\u0bcd\\u0b9a\\u0bc6\\u0baa\\u0bcd\\u0b9f\\u0bcd \\u0baa\\u0ba3\\u0bcd\\u0ba3\\u0bc1\\u0b99\\u0bcd\\u0b95 \\u0bae\\u0bb1\\u0bcd\\u0bb1\\u0bb5\\u0bb0\\u0bcd\\u0b95\\u0bb3\\u0bbf\\u0ba9\\u0bcd \\u0b95\\u0bc1\\u0bb1\\u0bc8\\u0baf\\u0bc8 \\u0b95\\u0bc1\\u0ba4\\u0bcd\\u0ba4\\u0bbf \\u0b95\\u0bbe\\u0bb0\\u0bcd\\u0b95\\u0bbe\\u0bae\\u0bb2\\u0bcd \\u0b85\\u0ba4\\u0bc8 \\u0b85\\u0b95\\u0bcd\\u0b9a\\u0bc6\\u0baa\\u0bcd\\u0b9f\\u0bcd \\u0b9a\\u0bc6\\u0baf\\u0bcd\\u0baf\\u0bc1\\u0b99\\u0bcd\\u0b95\\u0bb3\\u0bcd\"\n        ],\n        \"semantic_type\": \"\",\n        \"description\": \"\"\n      }\n    }\n  ]\n}",
              "type": "dataframe",
              "variable_name": "data"
            },
            "text/html": [
              "\n",
              "  <div id=\"df-403c7523-1ebe-49c6-9f78-598602aeadfc\" class=\"colab-df-container\">\n",
              "    <div>\n",
              "<style scoped>\n",
              "    .dataframe tbody tr th:only-of-type {\n",
              "        vertical-align: middle;\n",
              "    }\n",
              "\n",
              "    .dataframe tbody tr th {\n",
              "        vertical-align: top;\n",
              "    }\n",
              "\n",
              "    .dataframe thead th {\n",
              "        text-align: right;\n",
              "    }\n",
              "</style>\n",
              "<table border=\"1\" class=\"dataframe\">\n",
              "  <thead>\n",
              "    <tr style=\"text-align: right;\">\n",
              "      <th></th>\n",
              "      <th>Class Label Short</th>\n",
              "      <th>File Name</th>\n",
              "      <th>Transcript</th>\n",
              "    </tr>\n",
              "  </thead>\n",
              "  <tbody>\n",
              "    <tr>\n",
              "      <th>0</th>\n",
              "      <td>C</td>\n",
              "      <td>H_TA_003_C_M_016_005</td>\n",
              "      <td>உருவத்தை வச்ச ஒருத்தன் கிண்டல் பண்றான் பாருங்க...</td>\n",
              "    </tr>\n",
              "    <tr>\n",
              "      <th>1</th>\n",
              "      <td>C</td>\n",
              "      <td>H_TA_003_C_M_016_004</td>\n",
              "      <td>காமெடி பண்ண சொன்னா ஒருத்தன உருவ கேலி பண்ணிட்டு...</td>\n",
              "    </tr>\n",
              "    <tr>\n",
              "      <th>2</th>\n",
              "      <td>C</td>\n",
              "      <td>H_TA_003_C_M_016_003</td>\n",
              "      <td>இந்த உருவத்தை வைத்து கிண்டல் கேலி பண்ணி சிரிக்...</td>\n",
              "    </tr>\n",
              "    <tr>\n",
              "      <th>3</th>\n",
              "      <td>C</td>\n",
              "      <td>H_TA_003_C_M_015_002</td>\n",
              "      <td>புரிஞ்சுக்கணும் மேடையில் ஒரு நாகரிகம்னு ஒன்னு ...</td>\n",
              "    </tr>\n",
              "    <tr>\n",
              "      <th>4</th>\n",
              "      <td>C</td>\n",
              "      <td>H_TA_003_C_M_015_001</td>\n",
              "      <td>என்னா மல மல அண்ணாமலை இது உலகத்தோட ஸ்டைலு உட்கா...</td>\n",
              "    </tr>\n",
              "  </tbody>\n",
              "</table>\n",
              "</div>\n",
              "    <div class=\"colab-df-buttons\">\n",
              "\n",
              "  <div class=\"colab-df-container\">\n",
              "    <button class=\"colab-df-convert\" onclick=\"convertToInteractive('df-403c7523-1ebe-49c6-9f78-598602aeadfc')\"\n",
              "            title=\"Convert this dataframe to an interactive table.\"\n",
              "            style=\"display:none;\">\n",
              "\n",
              "  <svg xmlns=\"http://www.w3.org/2000/svg\" height=\"24px\" viewBox=\"0 -960 960 960\">\n",
              "    <path d=\"M120-120v-720h720v720H120Zm60-500h600v-160H180v160Zm220 220h160v-160H400v160Zm0 220h160v-160H400v160ZM180-400h160v-160H180v160Zm440 0h160v-160H620v160ZM180-180h160v-160H180v160Zm440 0h160v-160H620v160Z\"/>\n",
              "  </svg>\n",
              "    </button>\n",
              "\n",
              "  <style>\n",
              "    .colab-df-container {\n",
              "      display:flex;\n",
              "      gap: 12px;\n",
              "    }\n",
              "\n",
              "    .colab-df-convert {\n",
              "      background-color: #E8F0FE;\n",
              "      border: none;\n",
              "      border-radius: 50%;\n",
              "      cursor: pointer;\n",
              "      display: none;\n",
              "      fill: #1967D2;\n",
              "      height: 32px;\n",
              "      padding: 0 0 0 0;\n",
              "      width: 32px;\n",
              "    }\n",
              "\n",
              "    .colab-df-convert:hover {\n",
              "      background-color: #E2EBFA;\n",
              "      box-shadow: 0px 1px 2px rgba(60, 64, 67, 0.3), 0px 1px 3px 1px rgba(60, 64, 67, 0.15);\n",
              "      fill: #174EA6;\n",
              "    }\n",
              "\n",
              "    .colab-df-buttons div {\n",
              "      margin-bottom: 4px;\n",
              "    }\n",
              "\n",
              "    [theme=dark] .colab-df-convert {\n",
              "      background-color: #3B4455;\n",
              "      fill: #D2E3FC;\n",
              "    }\n",
              "\n",
              "    [theme=dark] .colab-df-convert:hover {\n",
              "      background-color: #434B5C;\n",
              "      box-shadow: 0px 1px 3px 1px rgba(0, 0, 0, 0.15);\n",
              "      filter: drop-shadow(0px 1px 2px rgba(0, 0, 0, 0.3));\n",
              "      fill: #FFFFFF;\n",
              "    }\n",
              "  </style>\n",
              "\n",
              "    <script>\n",
              "      const buttonEl =\n",
              "        document.querySelector('#df-403c7523-1ebe-49c6-9f78-598602aeadfc button.colab-df-convert');\n",
              "      buttonEl.style.display =\n",
              "        google.colab.kernel.accessAllowed ? 'block' : 'none';\n",
              "\n",
              "      async function convertToInteractive(key) {\n",
              "        const element = document.querySelector('#df-403c7523-1ebe-49c6-9f78-598602aeadfc');\n",
              "        const dataTable =\n",
              "          await google.colab.kernel.invokeFunction('convertToInteractive',\n",
              "                                                    [key], {});\n",
              "        if (!dataTable) return;\n",
              "\n",
              "        const docLinkHtml = 'Like what you see? Visit the ' +\n",
              "          '<a target=\"_blank\" href=https://colab.research.google.com/notebooks/data_table.ipynb>data table notebook</a>'\n",
              "          + ' to learn more about interactive tables.';\n",
              "        element.innerHTML = '';\n",
              "        dataTable['output_type'] = 'display_data';\n",
              "        await google.colab.output.renderOutput(dataTable, element);\n",
              "        const docLink = document.createElement('div');\n",
              "        docLink.innerHTML = docLinkHtml;\n",
              "        element.appendChild(docLink);\n",
              "      }\n",
              "    </script>\n",
              "  </div>\n",
              "\n",
              "\n",
              "<div id=\"df-64c84165-fafa-47cb-84e0-f404e7fa0006\">\n",
              "  <button class=\"colab-df-quickchart\" onclick=\"quickchart('df-64c84165-fafa-47cb-84e0-f404e7fa0006')\"\n",
              "            title=\"Suggest charts\"\n",
              "            style=\"display:none;\">\n",
              "\n",
              "<svg xmlns=\"http://www.w3.org/2000/svg\" height=\"24px\"viewBox=\"0 0 24 24\"\n",
              "     width=\"24px\">\n",
              "    <g>\n",
              "        <path d=\"M19 3H5c-1.1 0-2 .9-2 2v14c0 1.1.9 2 2 2h14c1.1 0 2-.9 2-2V5c0-1.1-.9-2-2-2zM9 17H7v-7h2v7zm4 0h-2V7h2v10zm4 0h-2v-4h2v4z\"/>\n",
              "    </g>\n",
              "</svg>\n",
              "  </button>\n",
              "\n",
              "<style>\n",
              "  .colab-df-quickchart {\n",
              "      --bg-color: #E8F0FE;\n",
              "      --fill-color: #1967D2;\n",
              "      --hover-bg-color: #E2EBFA;\n",
              "      --hover-fill-color: #174EA6;\n",
              "      --disabled-fill-color: #AAA;\n",
              "      --disabled-bg-color: #DDD;\n",
              "  }\n",
              "\n",
              "  [theme=dark] .colab-df-quickchart {\n",
              "      --bg-color: #3B4455;\n",
              "      --fill-color: #D2E3FC;\n",
              "      --hover-bg-color: #434B5C;\n",
              "      --hover-fill-color: #FFFFFF;\n",
              "      --disabled-bg-color: #3B4455;\n",
              "      --disabled-fill-color: #666;\n",
              "  }\n",
              "\n",
              "  .colab-df-quickchart {\n",
              "    background-color: var(--bg-color);\n",
              "    border: none;\n",
              "    border-radius: 50%;\n",
              "    cursor: pointer;\n",
              "    display: none;\n",
              "    fill: var(--fill-color);\n",
              "    height: 32px;\n",
              "    padding: 0;\n",
              "    width: 32px;\n",
              "  }\n",
              "\n",
              "  .colab-df-quickchart:hover {\n",
              "    background-color: var(--hover-bg-color);\n",
              "    box-shadow: 0 1px 2px rgba(60, 64, 67, 0.3), 0 1px 3px 1px rgba(60, 64, 67, 0.15);\n",
              "    fill: var(--button-hover-fill-color);\n",
              "  }\n",
              "\n",
              "  .colab-df-quickchart-complete:disabled,\n",
              "  .colab-df-quickchart-complete:disabled:hover {\n",
              "    background-color: var(--disabled-bg-color);\n",
              "    fill: var(--disabled-fill-color);\n",
              "    box-shadow: none;\n",
              "  }\n",
              "\n",
              "  .colab-df-spinner {\n",
              "    border: 2px solid var(--fill-color);\n",
              "    border-color: transparent;\n",
              "    border-bottom-color: var(--fill-color);\n",
              "    animation:\n",
              "      spin 1s steps(1) infinite;\n",
              "  }\n",
              "\n",
              "  @keyframes spin {\n",
              "    0% {\n",
              "      border-color: transparent;\n",
              "      border-bottom-color: var(--fill-color);\n",
              "      border-left-color: var(--fill-color);\n",
              "    }\n",
              "    20% {\n",
              "      border-color: transparent;\n",
              "      border-left-color: var(--fill-color);\n",
              "      border-top-color: var(--fill-color);\n",
              "    }\n",
              "    30% {\n",
              "      border-color: transparent;\n",
              "      border-left-color: var(--fill-color);\n",
              "      border-top-color: var(--fill-color);\n",
              "      border-right-color: var(--fill-color);\n",
              "    }\n",
              "    40% {\n",
              "      border-color: transparent;\n",
              "      border-right-color: var(--fill-color);\n",
              "      border-top-color: var(--fill-color);\n",
              "    }\n",
              "    60% {\n",
              "      border-color: transparent;\n",
              "      border-right-color: var(--fill-color);\n",
              "    }\n",
              "    80% {\n",
              "      border-color: transparent;\n",
              "      border-right-color: var(--fill-color);\n",
              "      border-bottom-color: var(--fill-color);\n",
              "    }\n",
              "    90% {\n",
              "      border-color: transparent;\n",
              "      border-bottom-color: var(--fill-color);\n",
              "    }\n",
              "  }\n",
              "</style>\n",
              "\n",
              "  <script>\n",
              "    async function quickchart(key) {\n",
              "      const quickchartButtonEl =\n",
              "        document.querySelector('#' + key + ' button');\n",
              "      quickchartButtonEl.disabled = true;  // To prevent multiple clicks.\n",
              "      quickchartButtonEl.classList.add('colab-df-spinner');\n",
              "      try {\n",
              "        const charts = await google.colab.kernel.invokeFunction(\n",
              "            'suggestCharts', [key], {});\n",
              "      } catch (error) {\n",
              "        console.error('Error during call to suggestCharts:', error);\n",
              "      }\n",
              "      quickchartButtonEl.classList.remove('colab-df-spinner');\n",
              "      quickchartButtonEl.classList.add('colab-df-quickchart-complete');\n",
              "    }\n",
              "    (() => {\n",
              "      let quickchartButtonEl =\n",
              "        document.querySelector('#df-64c84165-fafa-47cb-84e0-f404e7fa0006 button');\n",
              "      quickchartButtonEl.style.display =\n",
              "        google.colab.kernel.accessAllowed ? 'block' : 'none';\n",
              "    })();\n",
              "  </script>\n",
              "</div>\n",
              "\n",
              "    </div>\n",
              "  </div>\n"
            ],
            "text/plain": [
              "  Class Label Short             File Name  \\\n",
              "0                 C  H_TA_003_C_M_016_005   \n",
              "1                 C  H_TA_003_C_M_016_004   \n",
              "2                 C  H_TA_003_C_M_016_003   \n",
              "3                 C  H_TA_003_C_M_015_002   \n",
              "4                 C  H_TA_003_C_M_015_001   \n",
              "\n",
              "                                          Transcript  \n",
              "0  உருவத்தை வச்ச ஒருத்தன் கிண்டல் பண்றான் பாருங்க...  \n",
              "1  காமெடி பண்ண சொன்னா ஒருத்தன உருவ கேலி பண்ணிட்டு...  \n",
              "2  இந்த உருவத்தை வைத்து கிண்டல் கேலி பண்ணி சிரிக்...  \n",
              "3  புரிஞ்சுக்கணும் மேடையில் ஒரு நாகரிகம்னு ஒன்னு ...  \n",
              "4  என்னா மல மல அண்ணாமலை இது உலகத்தோட ஸ்டைலு உட்கா...  "
            ]
          },
          "execution_count": 13,
          "metadata": {},
          "output_type": "execute_result"
        }
      ],
      "source": [
        "data = pd.read_excel(f'{root_dir}/tamil/tamil_train/text/TA-AT-train.xlsx')\n",
        "data.head()"
      ]
    },
    {
      "cell_type": "code",
      "execution_count": null,
      "metadata": {
        "execution": {
          "iopub.execute_input": "2025-01-09T07:44:31.537756Z",
          "iopub.status.busy": "2025-01-09T07:44:31.537297Z",
          "iopub.status.idle": "2025-01-09T07:45:16.203148Z",
          "shell.execute_reply": "2025-01-09T07:45:16.201919Z",
          "shell.execute_reply.started": "2025-01-09T07:44:31.537719Z"
        },
        "id": "eBQo371VKKfd",
        "trusted": true
      },
      "outputs": [],
      "source": [
        "data['mfccs'] = data['File Name'].apply(lambda x: extract_mfcc(audio_file = x, language='tamil', dir='train'))\n",
        "data['tokenized_text'] = data['Transcript'].apply(\n",
        "    lambda x: tokenizer(f\"{x}\", return_tensors=\"np\", padding='max_length', truncation=True, max_length=128)\n",
        ")"
      ]
    },
    {
      "cell_type": "code",
      "execution_count": null,
      "metadata": {
        "execution": {
          "iopub.execute_input": "2025-01-09T07:45:24.628318Z",
          "iopub.status.busy": "2025-01-09T07:45:24.627746Z",
          "iopub.status.idle": "2025-01-09T07:45:24.636194Z",
          "shell.execute_reply": "2025-01-09T07:45:24.634690Z",
          "shell.execute_reply.started": "2025-01-09T07:45:24.628281Z"
        },
        "id": "qzFW8EeeKKfd",
        "trusted": true
      },
      "outputs": [],
      "source": [
        "data['input_ids'] = data['tokenized_text'].apply(lambda x: x['input_ids'][0])\n",
        "class_mapping = {'G': 0, 'P': 1, 'R': 2, 'C': 3, 'N': 4}\n",
        "data['labels'] = data['Class Label Short'].map(class_mapping)"
      ]
    },
    {
      "cell_type": "code",
      "execution_count": null,
      "metadata": {
        "colab": {
          "base_uri": "https://localhost:8080/"
        },
        "execution": {
          "iopub.execute_input": "2025-01-09T07:45:29.762817Z",
          "iopub.status.busy": "2025-01-09T07:45:29.762031Z",
          "iopub.status.idle": "2025-01-09T07:45:29.821174Z",
          "shell.execute_reply": "2025-01-09T07:45:29.819904Z",
          "shell.execute_reply.started": "2025-01-09T07:45:29.762642Z"
        },
        "id": "7Oc6adhqKKfe",
        "outputId": "58bcfd61-7750-4dbb-8c6d-a73df13b09cc",
        "trusted": true
      },
      "outputs": [
        {
          "name": "stdout",
          "output_type": "stream",
          "text": [
            "Original Train shape:  (458, 7)\n",
            "Original Val shape:  (51, 7)\n"
          ]
        }
      ],
      "source": [
        "# Split the dataframe into train-val-test sets: 80-10-10 split\n",
        "from sklearn.model_selection import train_test_split\n",
        "\n",
        "train, val = train_test_split(data, test_size=0.1, stratify=data['labels'])\n",
        "\n",
        "print(\"Original Train shape: \", train.shape)\n",
        "print(\"Original Val shape: \", val.shape)"
      ]
    },
    {
      "cell_type": "code",
      "execution_count": null,
      "metadata": {
        "execution": {
          "iopub.execute_input": "2025-01-09T07:45:55.937720Z",
          "iopub.status.busy": "2025-01-09T07:45:55.937295Z",
          "iopub.status.idle": "2025-01-09T07:45:55.958019Z",
          "shell.execute_reply": "2025-01-09T07:45:55.955706Z",
          "shell.execute_reply.started": "2025-01-09T07:45:55.937689Z"
        },
        "id": "cTNJcl9IKKfe",
        "trusted": true
      },
      "outputs": [],
      "source": [
        "train_inputs = [np.array(list(train['mfccs'])), np.array(list(train['input_ids']))]\n",
        "val_inputs = [np.array(list(val['mfccs'])), np.array(list(val['input_ids']))]\n",
        "train_labels = np.array(list(train['labels']))\n",
        "val_labels = np.array(list(val['labels']))\n"
      ]
    },
    {
      "cell_type": "code",
      "execution_count": null,
      "metadata": {
        "execution": {
          "iopub.execute_input": "2025-01-09T07:47:02.803945Z",
          "iopub.status.busy": "2025-01-09T07:47:02.803506Z",
          "iopub.status.idle": "2025-01-09T07:47:03.098709Z",
          "shell.execute_reply": "2025-01-09T07:47:03.097236Z",
          "shell.execute_reply.started": "2025-01-09T07:47:02.803910Z"
        },
        "id": "0s8gXnvJKKfe",
        "trusted": true
      },
      "outputs": [],
      "source": [
        "# Initialize the model\n",
        "model = Classifier(\n",
        "    num_layers=2,\n",
        "    d_model=128,\n",
        "    num_heads=4,\n",
        "    dff=256,\n",
        "    input_vocab_size=64000,\n",
        "    target_vocab_size=64000,\n",
        "    num_classes=5,\n",
        "    dropout_rate=0.1\n",
        ")\n",
        "\n",
        "# Compile the model\n",
        "model.compile(\n",
        "    optimizer=tf.keras.optimizers.Adam(learning_rate=1e-4),\n",
        "    loss='sparse_categorical_crossentropy',  # Use categorical_crossentropy since labels are one-hot encoded\n",
        "    metrics=['accuracy']\n",
        ")"
      ]
    },
    {
      "cell_type": "code",
      "execution_count": null,
      "metadata": {
        "colab": {
          "base_uri": "https://localhost:8080/"
        },
        "execution": {
          "iopub.execute_input": "2025-01-09T07:47:11.868608Z",
          "iopub.status.busy": "2025-01-09T07:47:11.868189Z",
          "iopub.status.idle": "2025-01-09T07:54:21.642015Z",
          "shell.execute_reply": "2025-01-09T07:54:21.640259Z",
          "shell.execute_reply.started": "2025-01-09T07:47:11.868577Z"
        },
        "id": "P8uAkg3pKKfe",
        "outputId": "c8ca4da4-44a8-4a45-d313-4c8cb200cab1",
        "trusted": true
      },
      "outputs": [
        {
          "name": "stdout",
          "output_type": "stream",
          "text": [
            "Epoch 1/20\n",
            "\u001b[1m15/15\u001b[0m \u001b[32m━━━━━━━━━━━━━━━━━━━━\u001b[0m\u001b[37m\u001b[0m \u001b[1m57s\u001b[0m 310ms/step - accuracy: 0.5015 - loss: 1.4323 - val_accuracy: 0.5686 - val_loss: 1.2582\n",
            "Epoch 2/20\n",
            "\u001b[1m15/15\u001b[0m \u001b[32m━━━━━━━━━━━━━━━━━━━━\u001b[0m\u001b[37m\u001b[0m \u001b[1m3s\u001b[0m 153ms/step - accuracy: 0.5670 - loss: 1.2814 - val_accuracy: 0.5686 - val_loss: 1.2786\n",
            "Epoch 3/20\n",
            "\u001b[1m15/15\u001b[0m \u001b[32m━━━━━━━━━━━━━━━━━━━━\u001b[0m\u001b[37m\u001b[0m \u001b[1m2s\u001b[0m 159ms/step - accuracy: 0.5597 - loss: 1.2852 - val_accuracy: 0.5686 - val_loss: 1.2559\n",
            "Epoch 4/20\n",
            "\u001b[1m15/15\u001b[0m \u001b[32m━━━━━━━━━━━━━━━━━━━━\u001b[0m\u001b[37m\u001b[0m \u001b[1m3s\u001b[0m 164ms/step - accuracy: 0.5626 - loss: 1.2573 - val_accuracy: 0.5686 - val_loss: 1.2250\n",
            "Epoch 5/20\n",
            "\u001b[1m15/15\u001b[0m \u001b[32m━━━━━━━━━━━━━━━━━━━━\u001b[0m\u001b[37m\u001b[0m \u001b[1m2s\u001b[0m 160ms/step - accuracy: 0.5597 - loss: 1.2516 - val_accuracy: 0.5686 - val_loss: 1.2163\n",
            "Epoch 6/20\n",
            "\u001b[1m15/15\u001b[0m \u001b[32m━━━━━━━━━━━━━━━━━━━━\u001b[0m\u001b[37m\u001b[0m \u001b[1m2s\u001b[0m 154ms/step - accuracy: 0.5688 - loss: 1.2150 - val_accuracy: 0.5686 - val_loss: 1.2144\n",
            "Epoch 7/20\n",
            "\u001b[1m15/15\u001b[0m \u001b[32m━━━━━━━━━━━━━━━━━━━━\u001b[0m\u001b[37m\u001b[0m \u001b[1m3s\u001b[0m 152ms/step - accuracy: 0.5188 - loss: 1.2885 - val_accuracy: 0.5686 - val_loss: 1.1951\n",
            "Epoch 8/20\n",
            "\u001b[1m15/15\u001b[0m \u001b[32m━━━━━━━━━━━━━━━━━━━━\u001b[0m\u001b[37m\u001b[0m \u001b[1m3s\u001b[0m 156ms/step - accuracy: 0.5658 - loss: 1.1928 - val_accuracy: 0.5686 - val_loss: 1.1753\n",
            "Epoch 9/20\n",
            "\u001b[1m15/15\u001b[0m \u001b[32m━━━━━━━━━━━━━━━━━━━━\u001b[0m\u001b[37m\u001b[0m \u001b[1m3s\u001b[0m 164ms/step - accuracy: 0.5610 - loss: 1.1858 - val_accuracy: 0.5686 - val_loss: 1.1915\n",
            "Epoch 10/20\n",
            "\u001b[1m15/15\u001b[0m \u001b[32m━━━━━━━━━━━━━━━━━━━━\u001b[0m\u001b[37m\u001b[0m \u001b[1m3s\u001b[0m 162ms/step - accuracy: 0.5610 - loss: 1.1548 - val_accuracy: 0.5686 - val_loss: 1.1849\n",
            "Epoch 11/20\n",
            "\u001b[1m15/15\u001b[0m \u001b[32m━━━━━━━━━━━━━━━━━━━━\u001b[0m\u001b[37m\u001b[0m \u001b[1m2s\u001b[0m 157ms/step - accuracy: 0.5610 - loss: 1.1201 - val_accuracy: 0.6078 - val_loss: 1.1458\n",
            "Epoch 12/20\n",
            "\u001b[1m15/15\u001b[0m \u001b[32m━━━━━━━━━━━━━━━━━━━━\u001b[0m\u001b[37m\u001b[0m \u001b[1m2s\u001b[0m 156ms/step - accuracy: 0.5739 - loss: 1.1084 - val_accuracy: 0.6275 - val_loss: 1.1451\n",
            "Epoch 13/20\n",
            "\u001b[1m15/15\u001b[0m \u001b[32m━━━━━━━━━━━━━━━━━━━━\u001b[0m\u001b[37m\u001b[0m \u001b[1m2s\u001b[0m 152ms/step - accuracy: 0.5886 - loss: 1.1113 - val_accuracy: 0.6275 - val_loss: 1.1329\n",
            "Epoch 14/20\n",
            "\u001b[1m15/15\u001b[0m \u001b[32m━━━━━━━━━━━━━━━━━━━━\u001b[0m\u001b[37m\u001b[0m \u001b[1m2s\u001b[0m 158ms/step - accuracy: 0.5609 - loss: 1.1368 - val_accuracy: 0.6667 - val_loss: 1.1354\n",
            "Epoch 15/20\n",
            "\u001b[1m15/15\u001b[0m \u001b[32m━━━━━━━━━━━━━━━━━━━━\u001b[0m\u001b[37m\u001b[0m \u001b[1m3s\u001b[0m 168ms/step - accuracy: 0.5915 - loss: 1.0569 - val_accuracy: 0.6471 - val_loss: 1.1258\n",
            "Epoch 16/20\n",
            "\u001b[1m15/15\u001b[0m \u001b[32m━━━━━━━━━━━━━━━━━━━━\u001b[0m\u001b[37m\u001b[0m \u001b[1m2s\u001b[0m 156ms/step - accuracy: 0.6213 - loss: 0.9932 - val_accuracy: 0.6471 - val_loss: 1.1130\n",
            "Epoch 17/20\n",
            "\u001b[1m15/15\u001b[0m \u001b[32m━━━━━━━━━━━━━━━━━━━━\u001b[0m\u001b[37m\u001b[0m \u001b[1m2s\u001b[0m 153ms/step - accuracy: 0.6010 - loss: 1.0579 - val_accuracy: 0.6471 - val_loss: 1.1046\n",
            "Epoch 18/20\n",
            "\u001b[1m15/15\u001b[0m \u001b[32m━━━━━━━━━━━━━━━━━━━━\u001b[0m\u001b[37m\u001b[0m \u001b[1m2s\u001b[0m 154ms/step - accuracy: 0.5872 - loss: 1.0669 - val_accuracy: 0.6078 - val_loss: 1.1056\n",
            "Epoch 19/20\n",
            "\u001b[1m15/15\u001b[0m \u001b[32m━━━━━━━━━━━━━━━━━━━━\u001b[0m\u001b[37m\u001b[0m \u001b[1m3s\u001b[0m 154ms/step - accuracy: 0.6236 - loss: 1.0191 - val_accuracy: 0.6667 - val_loss: 1.0769\n",
            "Epoch 20/20\n",
            "\u001b[1m15/15\u001b[0m \u001b[32m━━━━━━━━━━━━━━━━━━━━\u001b[0m\u001b[37m\u001b[0m \u001b[1m3s\u001b[0m 165ms/step - accuracy: 0.6130 - loss: 0.9963 - val_accuracy: 0.6275 - val_loss: 1.0757\n"
          ]
        }
      ],
      "source": [
        "callback = tf.keras.callbacks.EarlyStopping(monitor='val_loss',\n",
        "                                              patience=3)\n",
        "\n",
        "# Train the model\n",
        "history = model.fit(\n",
        "    train_inputs,\n",
        "    train_labels,\n",
        "    validation_data=(val_inputs, val_labels),\n",
        "    epochs=20,\n",
        "    callbacks=[callback],\n",
        "    batch_size=32\n",
        ")"
      ]
    },
    {
      "cell_type": "code",
      "execution_count": null,
      "metadata": {
        "colab": {
          "base_uri": "https://localhost:8080/"
        },
        "id": "jDKa96lFFoCZ",
        "outputId": "6ce5df22-1a65-4c9a-c054-b5855032870a"
      },
      "outputs": [
        {
          "name": "stdout",
          "output_type": "stream",
          "text": [
            "\u001b[1m2/2\u001b[0m \u001b[32m━━━━━━━━━━━━━━━━━━━━\u001b[0m\u001b[37m\u001b[0m \u001b[1m7s\u001b[0m 3s/step\n",
            "Macro-Averaged F1-Score: 0.28152173913043477\n"
          ]
        }
      ],
      "source": [
        "from sklearn.metrics import f1_score\n",
        "# Make predictions on the test set\n",
        "pred_probs = model.predict(val_inputs)\n",
        "pred_labels = np.argmax(pred_probs, axis=-1)  # Convert probabilities to class labels\n",
        "\n",
        "# Compute macro-averaged F1-score\n",
        "macro_f1 = f1_score(val_labels, pred_labels, average='macro')\n",
        "print(f\"Macro-Averaged F1-Score: {macro_f1}\")\n"
      ]
    },
    {
      "cell_type": "code",
      "execution_count": null,
      "metadata": {},
      "outputs": [],
      "source": [
        "# Prepare test set\n",
        "test = pd.read_excel(f'{root_dir}/tamil/tamil_test/text/TA-AT-test.xlsx')\n",
        "\n",
        "test['mfccs'] = test['File Name'].apply(lambda x: extract_mfcc(audio_file = x, language='tamil', dir='test'))\n",
        "test['tokenized_text'] = test['Transcript'].apply(lambda x: tokenizer(x, return_tensors=\"np\", padding='max_length', truncation=True, max_length=128))\n",
        "test['labels'] = test['Class Label '].map(class_mapping)\n",
        "test['input_ids'] = test['tokenized_text'].apply(lambda x: x['input_ids'][0])\n",
        "\n",
        "\n",
        "test_inputs = [np.array(list(test['mfccs'])), np.array(list(test['input_ids']))]\n",
        "test_labels = np.array(list(test['labels']))"
      ]
    },
    {
      "cell_type": "code",
      "execution_count": null,
      "metadata": {
        "execution": {
          "iopub.execute_input": "2025-01-09T07:54:36.169190Z",
          "iopub.status.busy": "2025-01-09T07:54:36.168648Z",
          "iopub.status.idle": "2025-01-09T07:54:39.718274Z",
          "shell.execute_reply": "2025-01-09T07:54:39.717128Z",
          "shell.execute_reply.started": "2025-01-09T07:54:36.169146Z"
        },
        "id": "pWbLoysQKKfe",
        "outputId": "c2450ac7-a1da-4cad-a269-bf2bb7f31cb8",
        "trusted": true
      },
      "outputs": [
        {
          "name": "stdout",
          "output_type": "stream",
          "text": [
            "\u001b[1m2/2\u001b[0m \u001b[32m━━━━━━━━━━━━━━━━━━━━\u001b[0m\u001b[37m\u001b[0m \u001b[1m3s\u001b[0m 1s/step - accuracy: 0.5770 - loss: 1.1866\n",
            "Test Loss: 1.2130273580551147, Test Accuracy: 0.5686274766921997\n"
          ]
        }
      ],
      "source": [
        "# Evaluate the model on test set\n",
        "test_loss, test_accuracy = model.evaluate(test_inputs, test_labels)\n",
        "print(f\"Test Loss: {test_loss}, Test Accuracy: {test_accuracy}\")"
      ]
    },
    {
      "cell_type": "code",
      "execution_count": null,
      "metadata": {
        "colab": {
          "base_uri": "https://localhost:8080/"
        },
        "execution": {
          "iopub.execute_input": "2025-01-09T07:55:12.919017Z",
          "iopub.status.busy": "2025-01-09T07:55:12.918570Z",
          "iopub.status.idle": "2025-01-09T07:55:24.292274Z",
          "shell.execute_reply": "2025-01-09T07:55:24.290920Z",
          "shell.execute_reply.started": "2025-01-09T07:55:12.918979Z"
        },
        "id": "ouBKlzt1KKff",
        "outputId": "fc262255-581e-4f2b-c0de-ba6b904bee01",
        "trusted": true
      },
      "outputs": [
        {
          "name": "stdout",
          "output_type": "stream",
          "text": [
            "\u001b[1m2/2\u001b[0m \u001b[32m━━━━━━━━━━━━━━━━━━━━\u001b[0m\u001b[37m\u001b[0m \u001b[1m0s\u001b[0m 67ms/step\n",
            "Macro-Averaged F1-Score: 0.12715789473684208\n"
          ]
        }
      ],
      "source": [
        "from sklearn.metrics import f1_score\n",
        "# Make predictions on the test set\n",
        "pred_probs = model.predict(test_inputs)\n",
        "pred_labels = np.argmax(pred_probs, axis=-1)  # Convert probabilities to class labels\n",
        "\n",
        "# Compute macro-averaged F1-score\n",
        "macro_f1 = f1_score(test_labels, pred_labels, average='macro')\n",
        "print(f\"Macro-Averaged F1-Score: {macro_f1}\")\n"
      ]
    },
    {
      "cell_type": "markdown",
      "metadata": {
        "id": "Z3cA59B6KKfh"
      },
      "source": [
        "# Multimodal Hate Speech Detection in Malayalam"
      ]
    },
    {
      "cell_type": "code",
      "execution_count": null,
      "metadata": {
        "colab": {
          "base_uri": "https://localhost:8080/",
          "height": 206
        },
        "execution": {
          "iopub.execute_input": "2025-01-08T14:52:01.526465Z",
          "iopub.status.busy": "2025-01-08T14:52:01.526011Z",
          "iopub.status.idle": "2025-01-08T14:52:03.661997Z",
          "shell.execute_reply": "2025-01-08T14:52:03.660700Z",
          "shell.execute_reply.started": "2025-01-08T14:52:01.526434Z"
        },
        "id": "OSrIuVvEKKfi",
        "outputId": "84b522a1-dda2-470c-9bcf-1fa10341144f",
        "trusted": true
      },
      "outputs": [
        {
          "data": {
            "application/vnd.google.colaboratory.intrinsic+json": {
              "summary": "{\n  \"name\": \"data\",\n  \"rows\": 883,\n  \"fields\": [\n    {\n      \"column\": \"Class Label Short\",\n      \"properties\": {\n        \"dtype\": \"category\",\n        \"num_unique_values\": 5,\n        \"samples\": [\n          \"G\",\n          \"N\",\n          \"P\"\n        ],\n        \"semantic_type\": \"\",\n        \"description\": \"\"\n      }\n    },\n    {\n      \"column\": \"File Name\",\n      \"properties\": {\n        \"dtype\": \"string\",\n        \"num_unique_values\": 883,\n        \"samples\": [\n          \"H_ML_001_C_M_001_011\",\n          \"NH_ML_002_N_M_012_017\",\n          \"NH_ML_002_N_M_004_008\"\n        ],\n        \"semantic_type\": \"\",\n        \"description\": \"\"\n      }\n    },\n    {\n      \"column\": \"Transcript\",\n      \"properties\": {\n        \"dtype\": \"string\",\n        \"num_unique_values\": 879,\n        \"samples\": [\n          \"\\u0d0e\\u0d28\\u0d3f\\u0d15\\u0d4d\\u0d15\\u0d3f\\u0d2a\\u0d4d\\u0d2a\\u0d4b\\u0d34\\u0d41\\u0d02 \\u0d2e\\u0d28\\u0d38\\u0d4d\\u0d38\\u0d3f\\u0d32\\u0d3e\\u0d2f\\u0d3f\\u0d1f\\u0d4d\\u0d1f\\u0d3f\\u0d32\\u0d4d\\u0d32 \\u0d07\\u0d35\\u0d28\\u0d46 \\u0d05\\u0d31\\u0d3f\\u0d2f\\u0d3e\\u0d2e\\u0d46\\u0d28\\u0d4d\\u0d28\\u0d4d \\u0d2a\\u0d31\\u0d2f\\u0d41\\u0d28\\u0d4d\\u0d28\\u0d24\\u0d4d \\u0d07\\u0d35\\u0d28\\u0d46\\u0d19\\u0d4d\\u0d19\\u0d3e\\u0d23\\u0d4d\\u0d1f\\u0d4d \\u0d2e\\u0d31\\u0d4d\\u0d31\\u0d47 \\u0d2a\\u0d4d\\u0d30\\u0d35\\u0d1a\\u0d28\\u0d02 \\u0d15\\u0d23\\u0d4d\\u0d1f\\u0d41\\u0d2a\\u0d3f\\u0d1f\\u0d3f\\u0d1a\\u0d4d\\u0d1a\\u0d3f\\u0d1f\\u0d4d\\u0d1f\\u0d41\\u0d23\\u0d4d\\u0d1f\\u0d4d \\u0d07\\u0d35\\u0d7b\\u0d31\\u0d46 \\u0d24\\u0d28\\u0d4d\\u0d24 \\u0d06\\u0d30\\u0d3e\\u0d23\\u0d4d\",\n          \"\\u0d15\\u0d4a\\u0d1f\\u0d41\\u0d15\\u0d4d\\u0d15\\u0d3e\\u0d7b \\u0d05\\u0d35\\u0d7c\\u0d15\\u0d4d \\u0d2a\\u0d31\\u0d4d\\u0d31\\u0d3e\\u0d24\\u0d4d\\u0d24 \\u0d35\\u0d3f\\u0d27\\u0d24\\u0d4d\\u0d24\\u0d3f\\u0d32\\u0d41\\u0d33\\u0d4d\\u0d33 \\u0d38\\u0d2e\\u0d4d\\u0d2e\\u0d7c\\u0d26\\u0d4d\\u0d26\\u0d02 \\u0d15\\u0d4b\\u0d1f\\u0d24\\u0d3f\\u0d15\\u0d33\\u0d41\\u0d1f\\u0d46 \\u0d2e\\u0d47\\u0d32\\u0d46 \\u0d09\\u0d23\\u0d4d\\u0d1f\\u0d3e\\u0d2f\\u0d24\\u0d41\\u0d15\\u0d4a\\u0d23\\u0d4d\\u0d1f\\u0d3e\\u0d23\\u0d4d\",\n          \"\\u0d35\\u0d3e\\u0d15\\u0d4d\\u0d15\\u0d41\\u0d15\\u0d33\\u0d3f\\u0d7d \\u0d28\\u0d41\\u0d23\\u0d2f\\u0d41\\u0d23\\u0d4d\\u0d1f\\u0d3e\\u0d15\\u0d41\\u0d02 \\u0d0e\\u0d28\\u0d4d\\u0d28\\u0d3e\\u0d7d \\u0d2a\\u0d4d\\u0d30\\u0d35\\u0d7c\\u0d24\\u0d4d\\u0d24\\u0d3f\\u0d15\\u0d7e \\u0d38\\u0d24\\u0d4d\\u0d2f\\u0d02 \\u0d35\\u0d3f\\u0d33\\u0d3f\\u0d1a\\u0d4d\\u0d1a\\u0d41 \\u0d2a\\u0d31\\u0d2f\\u0d41\\u0d02\"\n        ],\n        \"semantic_type\": \"\",\n        \"description\": \"\"\n      }\n    }\n  ]\n}",
              "type": "dataframe",
              "variable_name": "data"
            },
            "text/html": [
              "\n",
              "  <div id=\"df-3afa9391-8067-4caa-839a-1fc9e3bd5105\" class=\"colab-df-container\">\n",
              "    <div>\n",
              "<style scoped>\n",
              "    .dataframe tbody tr th:only-of-type {\n",
              "        vertical-align: middle;\n",
              "    }\n",
              "\n",
              "    .dataframe tbody tr th {\n",
              "        vertical-align: top;\n",
              "    }\n",
              "\n",
              "    .dataframe thead th {\n",
              "        text-align: right;\n",
              "    }\n",
              "</style>\n",
              "<table border=\"1\" class=\"dataframe\">\n",
              "  <thead>\n",
              "    <tr style=\"text-align: right;\">\n",
              "      <th></th>\n",
              "      <th>Class Label Short</th>\n",
              "      <th>File Name</th>\n",
              "      <th>Transcript</th>\n",
              "    </tr>\n",
              "  </thead>\n",
              "  <tbody>\n",
              "    <tr>\n",
              "      <th>0</th>\n",
              "      <td>C</td>\n",
              "      <td>H_ML_001_C_F_044_001</td>\n",
              "      <td>നമസ്കാരം ഒരു ഒരു പരമ ചെറ്റയുടെ കാര്യമാണ് ഞാൻ പ...</td>\n",
              "    </tr>\n",
              "    <tr>\n",
              "      <th>1</th>\n",
              "      <td>C</td>\n",
              "      <td>H_ML_001_C_F_044_002</td>\n",
              "      <td>ആദ്യം തന്നെ അവൻറെ ഐഡിയുടെ പേര് വരെ ഞാൻ ഇതിനകത്...</td>\n",
              "    </tr>\n",
              "    <tr>\n",
              "      <th>2</th>\n",
              "      <td>C</td>\n",
              "      <td>H_ML_001_C_F_044_003</td>\n",
              "      <td>അവൻറെ ആ ചെറ്റയുടെ ആ പരമനാറിയുടെ പേര്</td>\n",
              "    </tr>\n",
              "    <tr>\n",
              "      <th>3</th>\n",
              "      <td>C</td>\n",
              "      <td>H_ML_001_C_F_044_004</td>\n",
              "      <td>അവന്റെ ദുഷിച്ച മനസ്സ് കൊണ്ടുവന്ന് എൻറെ വീഡിയോയ...</td>\n",
              "    </tr>\n",
              "    <tr>\n",
              "      <th>4</th>\n",
              "      <td>C</td>\n",
              "      <td>H_ML_001_C_F_044_005</td>\n",
              "      <td>നിൻറെ ദുഷിപ്പ് എല്ലാം എന്തിനാ എന്റെ നേർക്ക് തീ...</td>\n",
              "    </tr>\n",
              "  </tbody>\n",
              "</table>\n",
              "</div>\n",
              "    <div class=\"colab-df-buttons\">\n",
              "\n",
              "  <div class=\"colab-df-container\">\n",
              "    <button class=\"colab-df-convert\" onclick=\"convertToInteractive('df-3afa9391-8067-4caa-839a-1fc9e3bd5105')\"\n",
              "            title=\"Convert this dataframe to an interactive table.\"\n",
              "            style=\"display:none;\">\n",
              "\n",
              "  <svg xmlns=\"http://www.w3.org/2000/svg\" height=\"24px\" viewBox=\"0 -960 960 960\">\n",
              "    <path d=\"M120-120v-720h720v720H120Zm60-500h600v-160H180v160Zm220 220h160v-160H400v160Zm0 220h160v-160H400v160ZM180-400h160v-160H180v160Zm440 0h160v-160H620v160ZM180-180h160v-160H180v160Zm440 0h160v-160H620v160Z\"/>\n",
              "  </svg>\n",
              "    </button>\n",
              "\n",
              "  <style>\n",
              "    .colab-df-container {\n",
              "      display:flex;\n",
              "      gap: 12px;\n",
              "    }\n",
              "\n",
              "    .colab-df-convert {\n",
              "      background-color: #E8F0FE;\n",
              "      border: none;\n",
              "      border-radius: 50%;\n",
              "      cursor: pointer;\n",
              "      display: none;\n",
              "      fill: #1967D2;\n",
              "      height: 32px;\n",
              "      padding: 0 0 0 0;\n",
              "      width: 32px;\n",
              "    }\n",
              "\n",
              "    .colab-df-convert:hover {\n",
              "      background-color: #E2EBFA;\n",
              "      box-shadow: 0px 1px 2px rgba(60, 64, 67, 0.3), 0px 1px 3px 1px rgba(60, 64, 67, 0.15);\n",
              "      fill: #174EA6;\n",
              "    }\n",
              "\n",
              "    .colab-df-buttons div {\n",
              "      margin-bottom: 4px;\n",
              "    }\n",
              "\n",
              "    [theme=dark] .colab-df-convert {\n",
              "      background-color: #3B4455;\n",
              "      fill: #D2E3FC;\n",
              "    }\n",
              "\n",
              "    [theme=dark] .colab-df-convert:hover {\n",
              "      background-color: #434B5C;\n",
              "      box-shadow: 0px 1px 3px 1px rgba(0, 0, 0, 0.15);\n",
              "      filter: drop-shadow(0px 1px 2px rgba(0, 0, 0, 0.3));\n",
              "      fill: #FFFFFF;\n",
              "    }\n",
              "  </style>\n",
              "\n",
              "    <script>\n",
              "      const buttonEl =\n",
              "        document.querySelector('#df-3afa9391-8067-4caa-839a-1fc9e3bd5105 button.colab-df-convert');\n",
              "      buttonEl.style.display =\n",
              "        google.colab.kernel.accessAllowed ? 'block' : 'none';\n",
              "\n",
              "      async function convertToInteractive(key) {\n",
              "        const element = document.querySelector('#df-3afa9391-8067-4caa-839a-1fc9e3bd5105');\n",
              "        const dataTable =\n",
              "          await google.colab.kernel.invokeFunction('convertToInteractive',\n",
              "                                                    [key], {});\n",
              "        if (!dataTable) return;\n",
              "\n",
              "        const docLinkHtml = 'Like what you see? Visit the ' +\n",
              "          '<a target=\"_blank\" href=https://colab.research.google.com/notebooks/data_table.ipynb>data table notebook</a>'\n",
              "          + ' to learn more about interactive tables.';\n",
              "        element.innerHTML = '';\n",
              "        dataTable['output_type'] = 'display_data';\n",
              "        await google.colab.output.renderOutput(dataTable, element);\n",
              "        const docLink = document.createElement('div');\n",
              "        docLink.innerHTML = docLinkHtml;\n",
              "        element.appendChild(docLink);\n",
              "      }\n",
              "    </script>\n",
              "  </div>\n",
              "\n",
              "\n",
              "<div id=\"df-1da602d6-a22c-4e0e-903e-e6683d61d947\">\n",
              "  <button class=\"colab-df-quickchart\" onclick=\"quickchart('df-1da602d6-a22c-4e0e-903e-e6683d61d947')\"\n",
              "            title=\"Suggest charts\"\n",
              "            style=\"display:none;\">\n",
              "\n",
              "<svg xmlns=\"http://www.w3.org/2000/svg\" height=\"24px\"viewBox=\"0 0 24 24\"\n",
              "     width=\"24px\">\n",
              "    <g>\n",
              "        <path d=\"M19 3H5c-1.1 0-2 .9-2 2v14c0 1.1.9 2 2 2h14c1.1 0 2-.9 2-2V5c0-1.1-.9-2-2-2zM9 17H7v-7h2v7zm4 0h-2V7h2v10zm4 0h-2v-4h2v4z\"/>\n",
              "    </g>\n",
              "</svg>\n",
              "  </button>\n",
              "\n",
              "<style>\n",
              "  .colab-df-quickchart {\n",
              "      --bg-color: #E8F0FE;\n",
              "      --fill-color: #1967D2;\n",
              "      --hover-bg-color: #E2EBFA;\n",
              "      --hover-fill-color: #174EA6;\n",
              "      --disabled-fill-color: #AAA;\n",
              "      --disabled-bg-color: #DDD;\n",
              "  }\n",
              "\n",
              "  [theme=dark] .colab-df-quickchart {\n",
              "      --bg-color: #3B4455;\n",
              "      --fill-color: #D2E3FC;\n",
              "      --hover-bg-color: #434B5C;\n",
              "      --hover-fill-color: #FFFFFF;\n",
              "      --disabled-bg-color: #3B4455;\n",
              "      --disabled-fill-color: #666;\n",
              "  }\n",
              "\n",
              "  .colab-df-quickchart {\n",
              "    background-color: var(--bg-color);\n",
              "    border: none;\n",
              "    border-radius: 50%;\n",
              "    cursor: pointer;\n",
              "    display: none;\n",
              "    fill: var(--fill-color);\n",
              "    height: 32px;\n",
              "    padding: 0;\n",
              "    width: 32px;\n",
              "  }\n",
              "\n",
              "  .colab-df-quickchart:hover {\n",
              "    background-color: var(--hover-bg-color);\n",
              "    box-shadow: 0 1px 2px rgba(60, 64, 67, 0.3), 0 1px 3px 1px rgba(60, 64, 67, 0.15);\n",
              "    fill: var(--button-hover-fill-color);\n",
              "  }\n",
              "\n",
              "  .colab-df-quickchart-complete:disabled,\n",
              "  .colab-df-quickchart-complete:disabled:hover {\n",
              "    background-color: var(--disabled-bg-color);\n",
              "    fill: var(--disabled-fill-color);\n",
              "    box-shadow: none;\n",
              "  }\n",
              "\n",
              "  .colab-df-spinner {\n",
              "    border: 2px solid var(--fill-color);\n",
              "    border-color: transparent;\n",
              "    border-bottom-color: var(--fill-color);\n",
              "    animation:\n",
              "      spin 1s steps(1) infinite;\n",
              "  }\n",
              "\n",
              "  @keyframes spin {\n",
              "    0% {\n",
              "      border-color: transparent;\n",
              "      border-bottom-color: var(--fill-color);\n",
              "      border-left-color: var(--fill-color);\n",
              "    }\n",
              "    20% {\n",
              "      border-color: transparent;\n",
              "      border-left-color: var(--fill-color);\n",
              "      border-top-color: var(--fill-color);\n",
              "    }\n",
              "    30% {\n",
              "      border-color: transparent;\n",
              "      border-left-color: var(--fill-color);\n",
              "      border-top-color: var(--fill-color);\n",
              "      border-right-color: var(--fill-color);\n",
              "    }\n",
              "    40% {\n",
              "      border-color: transparent;\n",
              "      border-right-color: var(--fill-color);\n",
              "      border-top-color: var(--fill-color);\n",
              "    }\n",
              "    60% {\n",
              "      border-color: transparent;\n",
              "      border-right-color: var(--fill-color);\n",
              "    }\n",
              "    80% {\n",
              "      border-color: transparent;\n",
              "      border-right-color: var(--fill-color);\n",
              "      border-bottom-color: var(--fill-color);\n",
              "    }\n",
              "    90% {\n",
              "      border-color: transparent;\n",
              "      border-bottom-color: var(--fill-color);\n",
              "    }\n",
              "  }\n",
              "</style>\n",
              "\n",
              "  <script>\n",
              "    async function quickchart(key) {\n",
              "      const quickchartButtonEl =\n",
              "        document.querySelector('#' + key + ' button');\n",
              "      quickchartButtonEl.disabled = true;  // To prevent multiple clicks.\n",
              "      quickchartButtonEl.classList.add('colab-df-spinner');\n",
              "      try {\n",
              "        const charts = await google.colab.kernel.invokeFunction(\n",
              "            'suggestCharts', [key], {});\n",
              "      } catch (error) {\n",
              "        console.error('Error during call to suggestCharts:', error);\n",
              "      }\n",
              "      quickchartButtonEl.classList.remove('colab-df-spinner');\n",
              "      quickchartButtonEl.classList.add('colab-df-quickchart-complete');\n",
              "    }\n",
              "    (() => {\n",
              "      let quickchartButtonEl =\n",
              "        document.querySelector('#df-1da602d6-a22c-4e0e-903e-e6683d61d947 button');\n",
              "      quickchartButtonEl.style.display =\n",
              "        google.colab.kernel.accessAllowed ? 'block' : 'none';\n",
              "    })();\n",
              "  </script>\n",
              "</div>\n",
              "\n",
              "    </div>\n",
              "  </div>\n"
            ],
            "text/plain": [
              "  Class Label Short             File Name  \\\n",
              "0                 C  H_ML_001_C_F_044_001   \n",
              "1                 C  H_ML_001_C_F_044_002   \n",
              "2                 C  H_ML_001_C_F_044_003   \n",
              "3                 C  H_ML_001_C_F_044_004   \n",
              "4                 C  H_ML_001_C_F_044_005   \n",
              "\n",
              "                                          Transcript  \n",
              "0  നമസ്കാരം ഒരു ഒരു പരമ ചെറ്റയുടെ കാര്യമാണ് ഞാൻ പ...  \n",
              "1  ആദ്യം തന്നെ അവൻറെ ഐഡിയുടെ പേര് വരെ ഞാൻ ഇതിനകത്...  \n",
              "2               അവൻറെ ആ ചെറ്റയുടെ ആ പരമനാറിയുടെ പേര്  \n",
              "3  അവന്റെ ദുഷിച്ച മനസ്സ് കൊണ്ടുവന്ന് എൻറെ വീഡിയോയ...  \n",
              "4  നിൻറെ ദുഷിപ്പ് എല്ലാം എന്തിനാ എന്റെ നേർക്ക് തീ...  "
            ]
          },
          "execution_count": 19,
          "metadata": {},
          "output_type": "execute_result"
        }
      ],
      "source": [
        "data = pd.read_excel(f'{root_dir}/malayalam/malayalam_train/text/ML-AT-train.xlsx')\n",
        "data.head()"
      ]
    },
    {
      "cell_type": "code",
      "execution_count": null,
      "metadata": {
        "execution": {
          "iopub.execute_input": "2025-01-08T14:55:14.724874Z",
          "iopub.status.busy": "2025-01-08T14:55:14.724429Z",
          "iopub.status.idle": "2025-01-08T14:56:06.845491Z",
          "shell.execute_reply": "2025-01-08T14:56:06.844205Z",
          "shell.execute_reply.started": "2025-01-08T14:55:14.724840Z"
        },
        "id": "1DqpCMHxKKfi",
        "trusted": true
      },
      "outputs": [],
      "source": [
        "data['mfccs'] = data['File Name'].apply(lambda x: extract_mfcc(audio_file = x, language='malayalam', dir='train'))\n",
        "\n",
        "data['tokenized_text'] = data['Transcript'].apply(\n",
        "    lambda x: tokenizer(f\"{x}\", return_tensors=\"np\", padding='max_length', truncation=True, max_length=128)\n",
        ")"
      ]
    },
    {
      "cell_type": "code",
      "execution_count": null,
      "metadata": {
        "execution": {
          "iopub.execute_input": "2025-01-08T14:57:42.363146Z",
          "iopub.status.busy": "2025-01-08T14:57:42.362683Z",
          "iopub.status.idle": "2025-01-08T14:57:42.372992Z",
          "shell.execute_reply": "2025-01-08T14:57:42.371534Z",
          "shell.execute_reply.started": "2025-01-08T14:57:42.363112Z"
        },
        "id": "EdqSe9GtKKfi",
        "trusted": true
      },
      "outputs": [],
      "source": [
        "data['input_ids'] = data['tokenized_text'].apply(lambda x: x['input_ids'][0])"
      ]
    },
    {
      "cell_type": "code",
      "execution_count": null,
      "metadata": {
        "execution": {
          "iopub.execute_input": "2025-01-08T14:58:13.915117Z",
          "iopub.status.busy": "2025-01-08T14:58:13.914641Z",
          "iopub.status.idle": "2025-01-08T14:58:13.922951Z",
          "shell.execute_reply": "2025-01-08T14:58:13.921486Z",
          "shell.execute_reply.started": "2025-01-08T14:58:13.915075Z"
        },
        "id": "MKgD1ATKKKfj",
        "trusted": true
      },
      "outputs": [],
      "source": [
        "# Perform class mapping\n",
        "class_mapping = {'G': 0, 'P': 1, 'R': 2, 'C': 3, 'N': 4}\n",
        "data['labels'] = data['Class Label Short'].map(class_mapping)"
      ]
    },
    {
      "cell_type": "code",
      "execution_count": null,
      "metadata": {
        "colab": {
          "base_uri": "https://localhost:8080/"
        },
        "execution": {
          "iopub.execute_input": "2025-01-08T14:58:15.421404Z",
          "iopub.status.busy": "2025-01-08T14:58:15.420911Z",
          "iopub.status.idle": "2025-01-08T14:58:15.447999Z",
          "shell.execute_reply": "2025-01-08T14:58:15.446662Z",
          "shell.execute_reply.started": "2025-01-08T14:58:15.421364Z"
        },
        "id": "2dhvkA5xKKfj",
        "outputId": "cb95d00c-b53b-4a72-e08f-d537d836ce7c",
        "trusted": true
      },
      "outputs": [
        {
          "name": "stdout",
          "output_type": "stream",
          "text": [
            "Original Train shape:  (794, 7)\n",
            "Original Val shape:  (89, 7)\n"
          ]
        }
      ],
      "source": [
        "# Split the dataframe into train-val-test sets: 80-10-10 split\n",
        "from sklearn.model_selection import train_test_split\n",
        "\n",
        "train, val = train_test_split(data, test_size=0.1, stratify=data['labels'])\n",
        "\n",
        "print(\"Original Train shape: \", train.shape)\n",
        "print(\"Original Val shape: \", val.shape)"
      ]
    },
    {
      "cell_type": "code",
      "execution_count": null,
      "metadata": {
        "execution": {
          "iopub.execute_input": "2025-01-08T14:58:56.001408Z",
          "iopub.status.busy": "2025-01-08T14:58:56.000895Z",
          "iopub.status.idle": "2025-01-08T14:58:56.042145Z",
          "shell.execute_reply": "2025-01-08T14:58:56.040946Z",
          "shell.execute_reply.started": "2025-01-08T14:58:56.001365Z"
        },
        "id": "iPy58j1WKKfj",
        "trusted": true
      },
      "outputs": [],
      "source": [
        "train_inputs = [np.array(list(train['mfccs'])), np.array(list(train['input_ids']))]\n",
        "val_inputs = [np.array(list(val['mfccs'])), np.array(list(val['input_ids']))]\n",
        "train_labels = np.array(list(train['labels']))\n",
        "val_labels = np.array(list(val['labels']))"
      ]
    },
    {
      "cell_type": "code",
      "execution_count": null,
      "metadata": {
        "execution": {
          "iopub.execute_input": "2025-01-08T14:59:04.832391Z",
          "iopub.status.busy": "2025-01-08T14:59:04.831904Z",
          "iopub.status.idle": "2025-01-08T14:59:05.064873Z",
          "shell.execute_reply": "2025-01-08T14:59:05.063373Z",
          "shell.execute_reply.started": "2025-01-08T14:59:04.832357Z"
        },
        "id": "zqij6Mj7KKfj",
        "trusted": true
      },
      "outputs": [],
      "source": [
        "# Initialize the model\n",
        "model = Classifier(\n",
        "    num_layers=2,\n",
        "    d_model=128,\n",
        "    num_heads=4,\n",
        "    dff=256,\n",
        "    input_vocab_size=64000,\n",
        "    target_vocab_size=64000,\n",
        "    num_classes=5,\n",
        "    dropout_rate=0.1\n",
        ")\n",
        "\n",
        "# Compile the model\n",
        "model.compile(\n",
        "    optimizer=tf.keras.optimizers.Adam(learning_rate=1e-4),\n",
        "    loss='sparse_categorical_crossentropy',  # Use categorical_crossentropy since labels are one-hot encoded\n",
        "    metrics=['accuracy']\n",
        ")"
      ]
    },
    {
      "cell_type": "code",
      "execution_count": null,
      "metadata": {
        "execution": {
          "iopub.execute_input": "2025-01-08T14:59:20.734068Z",
          "iopub.status.busy": "2025-01-08T14:59:20.733632Z",
          "iopub.status.idle": "2025-01-08T14:59:20.739466Z",
          "shell.execute_reply": "2025-01-08T14:59:20.738027Z",
          "shell.execute_reply.started": "2025-01-08T14:59:20.734018Z"
        },
        "id": "mFXEZgGnKKfj",
        "trusted": true
      },
      "outputs": [],
      "source": [
        "callback = tf.keras.callbacks.EarlyStopping(monitor='val_loss',\n",
        "                                              patience=3)"
      ]
    },
    {
      "cell_type": "code",
      "execution_count": null,
      "metadata": {
        "colab": {
          "base_uri": "https://localhost:8080/"
        },
        "execution": {
          "iopub.execute_input": "2025-01-08T14:59:29.954181Z",
          "iopub.status.busy": "2025-01-08T14:59:29.953741Z",
          "iopub.status.idle": "2025-01-08T15:15:24.566782Z",
          "shell.execute_reply": "2025-01-08T15:15:24.565454Z",
          "shell.execute_reply.started": "2025-01-08T14:59:29.954150Z"
        },
        "id": "UeHm1T-gKKfj",
        "outputId": "d7eef97f-17ab-479b-9d8c-68295d3f54c3",
        "trusted": true
      },
      "outputs": [
        {
          "name": "stdout",
          "output_type": "stream",
          "text": [
            "Epoch 1/20\n",
            "\u001b[1m25/25\u001b[0m \u001b[32m━━━━━━━━━━━━━━━━━━━━\u001b[0m\u001b[37m\u001b[0m \u001b[1m58s\u001b[0m 260ms/step - accuracy: 0.4534 - loss: 1.4274 - val_accuracy: 0.5056 - val_loss: 1.2377\n",
            "Epoch 2/20\n",
            "\u001b[1m25/25\u001b[0m \u001b[32m━━━━━━━━━━━━━━━━━━━━\u001b[0m\u001b[37m\u001b[0m \u001b[1m4s\u001b[0m 129ms/step - accuracy: 0.6047 - loss: 1.1161 - val_accuracy: 0.6854 - val_loss: 0.9536\n",
            "Epoch 3/20\n",
            "\u001b[1m25/25\u001b[0m \u001b[32m━━━━━━━━━━━━━━━━━━━━\u001b[0m\u001b[37m\u001b[0m \u001b[1m3s\u001b[0m 129ms/step - accuracy: 0.6725 - loss: 0.9296 - val_accuracy: 0.6966 - val_loss: 0.8463\n",
            "Epoch 4/20\n",
            "\u001b[1m25/25\u001b[0m \u001b[32m━━━━━━━━━━━━━━━━━━━━\u001b[0m\u001b[37m\u001b[0m \u001b[1m3s\u001b[0m 129ms/step - accuracy: 0.7350 - loss: 0.7813 - val_accuracy: 0.7079 - val_loss: 0.8066\n",
            "Epoch 5/20\n",
            "\u001b[1m25/25\u001b[0m \u001b[32m━━━━━━━━━━━━━━━━━━━━\u001b[0m\u001b[37m\u001b[0m \u001b[1m5s\u001b[0m 130ms/step - accuracy: 0.7387 - loss: 0.7215 - val_accuracy: 0.7079 - val_loss: 0.8271\n",
            "Epoch 6/20\n",
            "\u001b[1m25/25\u001b[0m \u001b[32m━━━━━━━━━━━━━━━━━━━━\u001b[0m\u001b[37m\u001b[0m \u001b[1m3s\u001b[0m 129ms/step - accuracy: 0.7633 - loss: 0.6508 - val_accuracy: 0.7528 - val_loss: 0.7393\n",
            "Epoch 7/20\n",
            "\u001b[1m25/25\u001b[0m \u001b[32m━━━━━━━━━━━━━━━━━━━━\u001b[0m\u001b[37m\u001b[0m \u001b[1m5s\u001b[0m 133ms/step - accuracy: 0.8018 - loss: 0.5160 - val_accuracy: 0.7753 - val_loss: 0.6933\n",
            "Epoch 8/20\n",
            "\u001b[1m25/25\u001b[0m \u001b[32m━━━━━━━━━━━━━━━━━━━━\u001b[0m\u001b[37m\u001b[0m \u001b[1m5s\u001b[0m 129ms/step - accuracy: 0.8139 - loss: 0.5082 - val_accuracy: 0.7978 - val_loss: 0.6443\n",
            "Epoch 9/20\n",
            "\u001b[1m25/25\u001b[0m \u001b[32m━━━━━━━━━━━━━━━━━━━━\u001b[0m\u001b[37m\u001b[0m \u001b[1m5s\u001b[0m 129ms/step - accuracy: 0.8079 - loss: 0.4830 - val_accuracy: 0.7640 - val_loss: 0.7074\n",
            "Epoch 10/20\n",
            "\u001b[1m25/25\u001b[0m \u001b[32m━━━━━━━━━━━━━━━━━━━━\u001b[0m\u001b[37m\u001b[0m \u001b[1m3s\u001b[0m 134ms/step - accuracy: 0.8231 - loss: 0.4456 - val_accuracy: 0.7416 - val_loss: 0.7224\n",
            "Epoch 11/20\n",
            "\u001b[1m25/25\u001b[0m \u001b[32m━━━━━━━━━━━━━━━━━━━━\u001b[0m\u001b[37m\u001b[0m \u001b[1m3s\u001b[0m 134ms/step - accuracy: 0.8300 - loss: 0.4323 - val_accuracy: 0.7753 - val_loss: 0.6471\n"
          ]
        }
      ],
      "source": [
        "# Train the model\n",
        "history = model.fit(\n",
        "    train_inputs,\n",
        "    train_labels,\n",
        "    validation_data=(val_inputs, val_labels),\n",
        "    epochs=20,\n",
        "    callbacks=[callback],\n",
        "    batch_size=32\n",
        ")"
      ]
    },
    {
      "cell_type": "code",
      "execution_count": null,
      "metadata": {
        "colab": {
          "base_uri": "https://localhost:8080/"
        },
        "execution": {
          "iopub.execute_input": "2025-01-08T15:15:57.408550Z",
          "iopub.status.busy": "2025-01-08T15:15:57.408003Z",
          "iopub.status.idle": "2025-01-08T15:16:00.352352Z",
          "shell.execute_reply": "2025-01-08T15:16:00.350788Z",
          "shell.execute_reply.started": "2025-01-08T15:15:57.408508Z"
        },
        "id": "9m8M1p-UKKfj",
        "outputId": "e834f1a3-e49d-4737-dd0b-754fc71407fa",
        "trusted": true
      },
      "outputs": [
        {
          "name": "stdout",
          "output_type": "stream",
          "text": [
            "\u001b[1m3/3\u001b[0m \u001b[32m━━━━━━━━━━━━━━━━━━━━\u001b[0m\u001b[37m\u001b[0m \u001b[1m0s\u001b[0m 104ms/step - accuracy: 0.7397 - loss: 0.6414\n",
            "Val Loss: 0.6260916590690613, Val Accuracy: 0.7528089880943298\n"
          ]
        }
      ],
      "source": [
        "# Evaluate the model\n",
        "val_loss, val_accuracy = model.evaluate(val_inputs, val_labels)\n",
        "print(f\"Val Loss: {val_loss}, Val Accuracy: {val_accuracy}\")"
      ]
    },
    {
      "cell_type": "code",
      "execution_count": null,
      "metadata": {
        "colab": {
          "base_uri": "https://localhost:8080/"
        },
        "execution": {
          "iopub.execute_input": "2025-01-08T15:16:09.232795Z",
          "iopub.status.busy": "2025-01-08T15:16:09.232174Z",
          "iopub.status.idle": "2025-01-08T15:16:16.402398Z",
          "shell.execute_reply": "2025-01-08T15:16:16.401171Z",
          "shell.execute_reply.started": "2025-01-08T15:16:09.232753Z"
        },
        "id": "RuHyGmh2KKfk",
        "outputId": "836996a0-0bc6-4b04-c281-eb552a1a8167",
        "trusted": true
      },
      "outputs": [
        {
          "name": "stdout",
          "output_type": "stream",
          "text": [
            "\u001b[1m3/3\u001b[0m \u001b[32m━━━━━━━━━━━━━━━━━━━━\u001b[0m\u001b[37m\u001b[0m \u001b[1m6s\u001b[0m 2s/step\n",
            "Macro-Averaged F1-Score: 0.6757426569021183\n"
          ]
        }
      ],
      "source": [
        "from sklearn.metrics import f1_score\n",
        "# Make predictions on the test set\n",
        "pred_probs = model.predict(val_inputs)\n",
        "pred_labels = np.argmax(pred_probs, axis=-1)  # Convert probabilities to class labels\n",
        "\n",
        "# Compute macro-averaged F1-score\n",
        "macro_f1 = f1_score(val_labels, pred_labels, average='macro')\n",
        "print(f\"Macro-Averaged F1-Score: {macro_f1}\")"
      ]
    },
    {
      "cell_type": "code",
      "execution_count": null,
      "metadata": {
        "execution": {
          "iopub.execute_input": "2025-01-08T15:20:33.553511Z",
          "iopub.status.busy": "2025-01-08T15:20:33.553064Z",
          "iopub.status.idle": "2025-01-08T15:20:38.004405Z",
          "shell.execute_reply": "2025-01-08T15:20:38.001864Z",
          "shell.execute_reply.started": "2025-01-08T15:20:33.553473Z"
        },
        "id": "__ID2IbJKKfk",
        "trusted": true
      },
      "outputs": [],
      "source": [
        "# Prepare test set\n",
        "test = pd.read_excel(f'{root_dir}/malayalam/malayalam_test/text/ML-AT-test.xlsx')\n",
        "\n",
        "test['mfccs'] = test['File Name'].apply(lambda x: extract_mfcc(audio_file=x, language='malayalam', dir='test'))\n",
        "\n",
        "# vocab_size = 64000\n",
        "test['tokenized_text'] = test['Transcript'].apply(\n",
        "    lambda x: tokenizer(f\"{x}\", return_tensors=\"np\", padding='max_length', truncation=True, max_length=128)\n",
        ")\n",
        "\n",
        "test['input_ids'] = test['tokenized_text'].apply(lambda x: x['input_ids'][0])"
      ]
    },
    {
      "cell_type": "code",
      "execution_count": null,
      "metadata": {
        "colab": {
          "base_uri": "https://localhost:8080/"
        },
        "execution": {
          "iopub.execute_input": "2025-01-08T15:20:49.856500Z",
          "iopub.status.busy": "2025-01-08T15:20:49.855999Z",
          "iopub.status.idle": "2025-01-08T15:20:49.867692Z",
          "shell.execute_reply": "2025-01-08T15:20:49.866537Z",
          "shell.execute_reply.started": "2025-01-08T15:20:49.856456Z"
        },
        "id": "-ScBSeV-KKfk",
        "outputId": "63431fda-28a7-4362-b273-307877b31dc9",
        "trusted": true
      },
      "outputs": [
        {
          "data": {
            "text/plain": [
              "Index(['File Name', 'Transcript', 'Class Label', 'mfccs', 'tokenized_text',\n",
              "       'input_ids', 'labels'],\n",
              "      dtype='object')"
            ]
          },
          "execution_count": 38,
          "metadata": {},
          "output_type": "execute_result"
        }
      ],
      "source": [
        "test['labels'] = test['Class Label'].map(class_mapping)\n",
        "test.columns"
      ]
    },
    {
      "cell_type": "code",
      "execution_count": null,
      "metadata": {
        "execution": {
          "iopub.execute_input": "2025-01-08T15:20:58.646898Z",
          "iopub.status.busy": "2025-01-08T15:20:58.646447Z",
          "iopub.status.idle": "2025-01-08T15:20:58.655417Z",
          "shell.execute_reply": "2025-01-08T15:20:58.653992Z",
          "shell.execute_reply.started": "2025-01-08T15:20:58.646866Z"
        },
        "id": "X7glFEYVKKfk",
        "trusted": true
      },
      "outputs": [],
      "source": [
        "test_data_inputs = [np.array(list(test['mfccs'])), np.array(list(test['input_ids']))]\n",
        "test_labels = np.array(list(test['labels']))"
      ]
    },
    {
      "cell_type": "code",
      "execution_count": null,
      "metadata": {
        "execution": {
          "iopub.execute_input": "2025-01-08T15:21:06.690775Z",
          "iopub.status.busy": "2025-01-08T15:21:06.690339Z",
          "iopub.status.idle": "2025-01-08T15:21:09.332687Z",
          "shell.execute_reply": "2025-01-08T15:21:09.331243Z",
          "shell.execute_reply.started": "2025-01-08T15:21:06.690745Z"
        },
        "id": "5uAzl-JLKKfk",
        "outputId": "ee1271bc-568e-4833-d170-1962c2b47d14",
        "trusted": true
      },
      "outputs": [
        {
          "name": "stdout",
          "output_type": "stream",
          "text": [
            "\u001b[1m2/2\u001b[0m \u001b[32m━━━━━━━━━━━━━━━━━━━━\u001b[0m\u001b[37m\u001b[0m \u001b[1m2s\u001b[0m 512ms/step\n"
          ]
        }
      ],
      "source": [
        "pred_probs = model.predict(test_data_inputs)\n",
        "pred_labels = np.argmax(pred_probs, axis=-1)"
      ]
    },
    {
      "cell_type": "code",
      "execution_count": null,
      "metadata": {
        "colab": {
          "base_uri": "https://localhost:8080/"
        },
        "id": "XtoHgHvXsJHJ",
        "outputId": "47cea5ce-bbad-439c-9e92-197fb5dcfc06"
      },
      "outputs": [
        {
          "name": "stdout",
          "output_type": "stream",
          "text": [
            "\u001b[1m2/2\u001b[0m \u001b[32m━━━━━━━━━━━━━━━━━━━━\u001b[0m\u001b[37m\u001b[0m \u001b[1m0s\u001b[0m 72ms/step\n",
            "Macro-Averaged F1-Score: 0.4321491228070175\n"
          ]
        }
      ],
      "source": [
        "from sklearn.metrics import f1_score\n",
        "# Make predictions on the test set\n",
        "pred_probs = model.predict(test_data_inputs)\n",
        "pred_labels = np.argmax(pred_probs, axis=-1)  # Convert probabilities to class labels\n",
        "\n",
        "# Compute macro-averaged F1-score\n",
        "macro_f1 = f1_score(test_labels, pred_labels, average='macro')\n",
        "print(f\"Macro-Averaged F1-Score: {macro_f1}\")"
      ]
    },
    {
      "cell_type": "markdown",
      "metadata": {
        "id": "bprnpj0gKKfp"
      },
      "source": [
        "# Multimodal Hate Speech Detection in Telugu\n"
      ]
    },
    {
      "cell_type": "code",
      "execution_count": null,
      "metadata": {
        "colab": {
          "base_uri": "https://localhost:8080/",
          "height": 206
        },
        "id": "0XPQCO5rwIsl",
        "outputId": "2a473bd3-1fd0-43ba-d911-dba3bdc94644"
      },
      "outputs": [
        {
          "data": {
            "application/vnd.google.colaboratory.intrinsic+json": {
              "summary": "{\n  \"name\": \"data\",\n  \"rows\": 551,\n  \"fields\": [\n    {\n      \"column\": \"Class Label Short\",\n      \"properties\": {\n        \"dtype\": \"category\",\n        \"num_unique_values\": 5,\n        \"samples\": [\n          \"P\",\n          \"N\",\n          \"G\"\n        ],\n        \"semantic_type\": \"\",\n        \"description\": \"\"\n      }\n    },\n    {\n      \"column\": \"File_Name\",\n      \"properties\": {\n        \"dtype\": \"string\",\n        \"num_unique_values\": 551,\n        \"samples\": [\n          \"NH_TE_003_N_M_011_011\",\n          \"H_TE_003_P_F_002_004\",\n          \"H_TE_002_G_F_011_009\"\n        ],\n        \"semantic_type\": \"\",\n        \"description\": \"\"\n      }\n    },\n    {\n      \"column\": \"Transcript\",\n      \"properties\": {\n        \"dtype\": \"string\",\n        \"num_unique_values\": 548,\n        \"samples\": [\n          \"\\u0c2b\\u0c47\\u0c38\\u0c4d \\u0c0e\\u0c2a\\u0c4d\\u0c2a\\u0c41\\u0c21\\u0c2f\\u0c3f\\u0c28\\u0c3e \\u0c1a\\u0c42\\u0c38\\u0c41\\u0c15\\u0c41\\u0c28\\u0c4d\\u0c28\\u0c3e\\u0c35\\u0c3e \\u0c17\\u0c1c\\u0c4d\\u0c1c\\u0c3f \\u0c2e\\u0c21\\u0c4d\\u0c21 \",\n          \"\\u0c38\\u0c3f\\u0c17\\u0c4d\\u0c17\\u0c41 \\u0c09\\u0c02\\u0c21\\u0c3e\\u0c32\\u0c3f \\u0c07\\u0c02\\u0c15\\u0c3e \\u0c38\\u0c3f\\u0c17\\u0c4d\\u0c17\\u0c41 \\u0c32\\u0c47\\u0c15\\u0c41\\u0c02\\u0c21\\u0c3e \\u0c15\\u0c3e\\u0c02\\u0c17\\u0c4d\\u0c30\\u0c46\\u0c38\\u0c4d \\u0c15\\u0c02\\u0c21\\u0c41\\u0c35\\u0c3e \\u0c15\\u0c2a\\u0c4d\\u0c2a\\u0c41\\u0c15\\u0c41\\u0c28\\u0c3f \\u0c08\\u0c30\\u0c4b\\u0c1c\\u0c41 \\u0c30\\u0c3e\\u0c2e \\u0c2e\\u0c02\\u0c26\\u0c3f\\u0c30\\u0c3e\\u0c28\\u0c3f\\u0c15\\u0c3f \\u0c35\\u0c4d\\u0c2f\\u0c24\\u0c3f\\u0c30\\u0c47\\u0c15\\u0c02\\u0c17\\u0c3e \\u0c2e\\u0c3e\\u0c1f\\u0c4d\\u0c32\\u0c3e\\u0c21\\u0c41\\u0c24\\u0c41\\u0c28\\u0c4d\\u0c28\\u0c3e\\u0c30\\u0c41 \\u0c05\\u0c02\\u0c1f\\u0c47 \\u0c2c\\u0c3f\\u0c21\\u0c4d\\u0c21 \\u0c24\\u0c41\\u0c30\\u0c15\\u0c32\\u0c41 \\u0c24\\u0c46\\u0c38\\u0c4d\\u0c24\\u0c3e \\u0c12\\u0c15\\u0c4d\\u0c15\\u0c4a\\u0c15\\u0c4d\\u0c15\\u0c21\\u0c3f\\u0c35\\u0c3f  \\u0c24\\u0c41\\u0c30\\u0c15\\u0c32\\u0c41 \\u0c24\\u0c46\\u0c38\\u0c4d\\u0c24\\u0c3e \\u0c12\\u0c15\\u0c4d\\u0c15\\u0c4a\\u0c15\\u0c4d\\u0c15\\u0c21\\u0c3f\\u0c35\\u0c3f \",\n          \" \\u0c28\\u0c3f\\u0c28\\u0c4d\\u0c28\\u0c41 \\u0c17\\u0c41\\u0c21\\u0c4d\\u0c21 \\u0c2a\\u0c17\\u0c32\\u0c26\\u0c46\\u0c02\\u0c17\\u0c41\\u0c24\\u0c3e \\u0c06\\u0c02\\u0c1f\\u0c40 \\u0c28\\u0c41\\u0c35\\u0c4d\\u0c35\\u0c41 \\u0c2a\\u0c4b\\u0c32\\u0c40\\u0c38\\u0c4d \\u0c38\\u0c4d\\u0c1f\\u0c47\\u0c37\\u0c28\\u0c4d \\u0c32\\u0c3e\\u0c15\\u0c3f\\u0c35\\u0c46\\u0c33\\u0c4d\\u0c33\\u0c3f \\u0c38\\u0c48\\u0c2c\\u0c30\\u0c4d\\u0c15\\u0c4d\\u0c30\\u0c48\\u0c2e\\u0c4d\\u0c15\\u0c3f\\u0c15\\u0c3f\\u0c35\\u0c46\\u0c33\\u0c4d\\u0c33\\u0c3f  \\u0c2a\\u0c4b\\u0c32\\u0c3f\\u0c38\\u0c41\\u0c32 \\u0c26\\u0c46\\u0c17\\u0c4d\\u0c17\\u0c30  \\u0c07\\u0c26\\u0c47\\u0c02\\u0c1f\\u0c40 \\u0c15\\u0c02\\u0c2a\\u0c4d\\u0c32\\u0c48\\u0c02\\u0c1f\\u0c4d \\u0c07\\u0c1a\\u0c4d\\u0c1a\\u0c41\\u0c15\\u0c41\\u0c02\\u0c1f\\u0c41\\u0c28\\u0c4d\\u0c28\\u0c3e\\u0c35\\u0c41 \\u0c15\\u0c26\\u0c30\\u0c3e \"\n        ],\n        \"semantic_type\": \"\",\n        \"description\": \"\"\n      }\n    }\n  ]\n}",
              "type": "dataframe",
              "variable_name": "data"
            },
            "text/html": [
              "\n",
              "  <div id=\"df-de6ee6a5-7df6-432d-b599-d2e788910504\" class=\"colab-df-container\">\n",
              "    <div>\n",
              "<style scoped>\n",
              "    .dataframe tbody tr th:only-of-type {\n",
              "        vertical-align: middle;\n",
              "    }\n",
              "\n",
              "    .dataframe tbody tr th {\n",
              "        vertical-align: top;\n",
              "    }\n",
              "\n",
              "    .dataframe thead th {\n",
              "        text-align: right;\n",
              "    }\n",
              "</style>\n",
              "<table border=\"1\" class=\"dataframe\">\n",
              "  <thead>\n",
              "    <tr style=\"text-align: right;\">\n",
              "      <th></th>\n",
              "      <th>Class Label Short</th>\n",
              "      <th>File_Name</th>\n",
              "      <th>Transcript</th>\n",
              "    </tr>\n",
              "  </thead>\n",
              "  <tbody>\n",
              "    <tr>\n",
              "      <th>0</th>\n",
              "      <td>R</td>\n",
              "      <td>H_TE_001_R_F_015_001</td>\n",
              "      <td>ఈ కాలంలో మీరు ఒకసారి ఒబ్సర్వ్ చేయండి మన స్టేటు...</td>\n",
              "    </tr>\n",
              "    <tr>\n",
              "      <th>1</th>\n",
              "      <td>R</td>\n",
              "      <td>H_TE_001_R_F_015_002</td>\n",
              "      <td>హిందూ థర్మాన్ని ఎవరేమన్నా కూడా వాడికొచ్చే ఒకేఒ...</td>\n",
              "    </tr>\n",
              "    <tr>\n",
              "      <th>2</th>\n",
              "      <td>R</td>\n",
              "      <td>H_TE_001_R_F_015_003</td>\n",
              "      <td>ఒక ముస్లింనిగాని. ఒక్క నిమిషం భార్గవి కల్యాణిగ...</td>\n",
              "    </tr>\n",
              "    <tr>\n",
              "      <th>3</th>\n",
              "      <td>R</td>\n",
              "      <td>H_TE_001_R_F_015_004</td>\n",
              "      <td>ఈ సెక్యులర్ ఇండియా డెమోక్రాటిక్ ఇండియా అని మాట...</td>\n",
              "    </tr>\n",
              "    <tr>\n",
              "      <th>4</th>\n",
              "      <td>R</td>\n",
              "      <td>H_TE_001_R_F_015_005</td>\n",
              "      <td>హిందువులున్న ఈ భారతదేశంలో ,ఈ భారతదేశంలో , సనాత...</td>\n",
              "    </tr>\n",
              "  </tbody>\n",
              "</table>\n",
              "</div>\n",
              "    <div class=\"colab-df-buttons\">\n",
              "\n",
              "  <div class=\"colab-df-container\">\n",
              "    <button class=\"colab-df-convert\" onclick=\"convertToInteractive('df-de6ee6a5-7df6-432d-b599-d2e788910504')\"\n",
              "            title=\"Convert this dataframe to an interactive table.\"\n",
              "            style=\"display:none;\">\n",
              "\n",
              "  <svg xmlns=\"http://www.w3.org/2000/svg\" height=\"24px\" viewBox=\"0 -960 960 960\">\n",
              "    <path d=\"M120-120v-720h720v720H120Zm60-500h600v-160H180v160Zm220 220h160v-160H400v160Zm0 220h160v-160H400v160ZM180-400h160v-160H180v160Zm440 0h160v-160H620v160ZM180-180h160v-160H180v160Zm440 0h160v-160H620v160Z\"/>\n",
              "  </svg>\n",
              "    </button>\n",
              "\n",
              "  <style>\n",
              "    .colab-df-container {\n",
              "      display:flex;\n",
              "      gap: 12px;\n",
              "    }\n",
              "\n",
              "    .colab-df-convert {\n",
              "      background-color: #E8F0FE;\n",
              "      border: none;\n",
              "      border-radius: 50%;\n",
              "      cursor: pointer;\n",
              "      display: none;\n",
              "      fill: #1967D2;\n",
              "      height: 32px;\n",
              "      padding: 0 0 0 0;\n",
              "      width: 32px;\n",
              "    }\n",
              "\n",
              "    .colab-df-convert:hover {\n",
              "      background-color: #E2EBFA;\n",
              "      box-shadow: 0px 1px 2px rgba(60, 64, 67, 0.3), 0px 1px 3px 1px rgba(60, 64, 67, 0.15);\n",
              "      fill: #174EA6;\n",
              "    }\n",
              "\n",
              "    .colab-df-buttons div {\n",
              "      margin-bottom: 4px;\n",
              "    }\n",
              "\n",
              "    [theme=dark] .colab-df-convert {\n",
              "      background-color: #3B4455;\n",
              "      fill: #D2E3FC;\n",
              "    }\n",
              "\n",
              "    [theme=dark] .colab-df-convert:hover {\n",
              "      background-color: #434B5C;\n",
              "      box-shadow: 0px 1px 3px 1px rgba(0, 0, 0, 0.15);\n",
              "      filter: drop-shadow(0px 1px 2px rgba(0, 0, 0, 0.3));\n",
              "      fill: #FFFFFF;\n",
              "    }\n",
              "  </style>\n",
              "\n",
              "    <script>\n",
              "      const buttonEl =\n",
              "        document.querySelector('#df-de6ee6a5-7df6-432d-b599-d2e788910504 button.colab-df-convert');\n",
              "      buttonEl.style.display =\n",
              "        google.colab.kernel.accessAllowed ? 'block' : 'none';\n",
              "\n",
              "      async function convertToInteractive(key) {\n",
              "        const element = document.querySelector('#df-de6ee6a5-7df6-432d-b599-d2e788910504');\n",
              "        const dataTable =\n",
              "          await google.colab.kernel.invokeFunction('convertToInteractive',\n",
              "                                                    [key], {});\n",
              "        if (!dataTable) return;\n",
              "\n",
              "        const docLinkHtml = 'Like what you see? Visit the ' +\n",
              "          '<a target=\"_blank\" href=https://colab.research.google.com/notebooks/data_table.ipynb>data table notebook</a>'\n",
              "          + ' to learn more about interactive tables.';\n",
              "        element.innerHTML = '';\n",
              "        dataTable['output_type'] = 'display_data';\n",
              "        await google.colab.output.renderOutput(dataTable, element);\n",
              "        const docLink = document.createElement('div');\n",
              "        docLink.innerHTML = docLinkHtml;\n",
              "        element.appendChild(docLink);\n",
              "      }\n",
              "    </script>\n",
              "  </div>\n",
              "\n",
              "\n",
              "<div id=\"df-123e679f-96c2-4ff8-8b7b-2ea5207d3b71\">\n",
              "  <button class=\"colab-df-quickchart\" onclick=\"quickchart('df-123e679f-96c2-4ff8-8b7b-2ea5207d3b71')\"\n",
              "            title=\"Suggest charts\"\n",
              "            style=\"display:none;\">\n",
              "\n",
              "<svg xmlns=\"http://www.w3.org/2000/svg\" height=\"24px\"viewBox=\"0 0 24 24\"\n",
              "     width=\"24px\">\n",
              "    <g>\n",
              "        <path d=\"M19 3H5c-1.1 0-2 .9-2 2v14c0 1.1.9 2 2 2h14c1.1 0 2-.9 2-2V5c0-1.1-.9-2-2-2zM9 17H7v-7h2v7zm4 0h-2V7h2v10zm4 0h-2v-4h2v4z\"/>\n",
              "    </g>\n",
              "</svg>\n",
              "  </button>\n",
              "\n",
              "<style>\n",
              "  .colab-df-quickchart {\n",
              "      --bg-color: #E8F0FE;\n",
              "      --fill-color: #1967D2;\n",
              "      --hover-bg-color: #E2EBFA;\n",
              "      --hover-fill-color: #174EA6;\n",
              "      --disabled-fill-color: #AAA;\n",
              "      --disabled-bg-color: #DDD;\n",
              "  }\n",
              "\n",
              "  [theme=dark] .colab-df-quickchart {\n",
              "      --bg-color: #3B4455;\n",
              "      --fill-color: #D2E3FC;\n",
              "      --hover-bg-color: #434B5C;\n",
              "      --hover-fill-color: #FFFFFF;\n",
              "      --disabled-bg-color: #3B4455;\n",
              "      --disabled-fill-color: #666;\n",
              "  }\n",
              "\n",
              "  .colab-df-quickchart {\n",
              "    background-color: var(--bg-color);\n",
              "    border: none;\n",
              "    border-radius: 50%;\n",
              "    cursor: pointer;\n",
              "    display: none;\n",
              "    fill: var(--fill-color);\n",
              "    height: 32px;\n",
              "    padding: 0;\n",
              "    width: 32px;\n",
              "  }\n",
              "\n",
              "  .colab-df-quickchart:hover {\n",
              "    background-color: var(--hover-bg-color);\n",
              "    box-shadow: 0 1px 2px rgba(60, 64, 67, 0.3), 0 1px 3px 1px rgba(60, 64, 67, 0.15);\n",
              "    fill: var(--button-hover-fill-color);\n",
              "  }\n",
              "\n",
              "  .colab-df-quickchart-complete:disabled,\n",
              "  .colab-df-quickchart-complete:disabled:hover {\n",
              "    background-color: var(--disabled-bg-color);\n",
              "    fill: var(--disabled-fill-color);\n",
              "    box-shadow: none;\n",
              "  }\n",
              "\n",
              "  .colab-df-spinner {\n",
              "    border: 2px solid var(--fill-color);\n",
              "    border-color: transparent;\n",
              "    border-bottom-color: var(--fill-color);\n",
              "    animation:\n",
              "      spin 1s steps(1) infinite;\n",
              "  }\n",
              "\n",
              "  @keyframes spin {\n",
              "    0% {\n",
              "      border-color: transparent;\n",
              "      border-bottom-color: var(--fill-color);\n",
              "      border-left-color: var(--fill-color);\n",
              "    }\n",
              "    20% {\n",
              "      border-color: transparent;\n",
              "      border-left-color: var(--fill-color);\n",
              "      border-top-color: var(--fill-color);\n",
              "    }\n",
              "    30% {\n",
              "      border-color: transparent;\n",
              "      border-left-color: var(--fill-color);\n",
              "      border-top-color: var(--fill-color);\n",
              "      border-right-color: var(--fill-color);\n",
              "    }\n",
              "    40% {\n",
              "      border-color: transparent;\n",
              "      border-right-color: var(--fill-color);\n",
              "      border-top-color: var(--fill-color);\n",
              "    }\n",
              "    60% {\n",
              "      border-color: transparent;\n",
              "      border-right-color: var(--fill-color);\n",
              "    }\n",
              "    80% {\n",
              "      border-color: transparent;\n",
              "      border-right-color: var(--fill-color);\n",
              "      border-bottom-color: var(--fill-color);\n",
              "    }\n",
              "    90% {\n",
              "      border-color: transparent;\n",
              "      border-bottom-color: var(--fill-color);\n",
              "    }\n",
              "  }\n",
              "</style>\n",
              "\n",
              "  <script>\n",
              "    async function quickchart(key) {\n",
              "      const quickchartButtonEl =\n",
              "        document.querySelector('#' + key + ' button');\n",
              "      quickchartButtonEl.disabled = true;  // To prevent multiple clicks.\n",
              "      quickchartButtonEl.classList.add('colab-df-spinner');\n",
              "      try {\n",
              "        const charts = await google.colab.kernel.invokeFunction(\n",
              "            'suggestCharts', [key], {});\n",
              "      } catch (error) {\n",
              "        console.error('Error during call to suggestCharts:', error);\n",
              "      }\n",
              "      quickchartButtonEl.classList.remove('colab-df-spinner');\n",
              "      quickchartButtonEl.classList.add('colab-df-quickchart-complete');\n",
              "    }\n",
              "    (() => {\n",
              "      let quickchartButtonEl =\n",
              "        document.querySelector('#df-123e679f-96c2-4ff8-8b7b-2ea5207d3b71 button');\n",
              "      quickchartButtonEl.style.display =\n",
              "        google.colab.kernel.accessAllowed ? 'block' : 'none';\n",
              "    })();\n",
              "  </script>\n",
              "</div>\n",
              "\n",
              "    </div>\n",
              "  </div>\n"
            ],
            "text/plain": [
              "  Class Label Short             File_Name  \\\n",
              "0                 R  H_TE_001_R_F_015_001   \n",
              "1                 R  H_TE_001_R_F_015_002   \n",
              "2                 R  H_TE_001_R_F_015_003   \n",
              "3                 R  H_TE_001_R_F_015_004   \n",
              "4                 R  H_TE_001_R_F_015_005   \n",
              "\n",
              "                                          Transcript  \n",
              "0  ఈ కాలంలో మీరు ఒకసారి ఒబ్సర్వ్ చేయండి మన స్టేటు...  \n",
              "1  హిందూ థర్మాన్ని ఎవరేమన్నా కూడా వాడికొచ్చే ఒకేఒ...  \n",
              "2  ఒక ముస్లింనిగాని. ఒక్క నిమిషం భార్గవి కల్యాణిగ...  \n",
              "3  ఈ సెక్యులర్ ఇండియా డెమోక్రాటిక్ ఇండియా అని మాట...  \n",
              "4  హిందువులున్న ఈ భారతదేశంలో ,ఈ భారతదేశంలో , సనాత...  "
            ]
          },
          "execution_count": 69,
          "metadata": {},
          "output_type": "execute_result"
        }
      ],
      "source": [
        "data = pd.read_excel(f'{root_dir}/telugu/telugu_train/text/TE-AT-train.xlsx')\n",
        "data.head()"
      ]
    },
    {
      "cell_type": "code",
      "execution_count": null,
      "metadata": {
        "execution": {
          "iopub.execute_input": "2025-01-09T06:34:32.675566Z",
          "iopub.status.busy": "2025-01-09T06:34:32.675080Z",
          "iopub.status.idle": "2025-01-09T06:35:08.009866Z",
          "shell.execute_reply": "2025-01-09T06:35:08.008132Z",
          "shell.execute_reply.started": "2025-01-09T06:34:32.675529Z"
        },
        "id": "TsLcW_eUKKfq",
        "trusted": true
      },
      "outputs": [],
      "source": [
        "data.rename(columns={'File_Name': 'File Name'}, inplace=True)\n",
        "data['mfccs'] = data['File Name'].apply(lambda x: extract_mfcc(audio_file = x, language='telugu', dir='train'))\n",
        "data['tokenized_text'] = data['Transcript'].apply(\n",
        "    lambda x: tokenizer(f\"{x}\", return_tensors=\"np\", padding='max_length', truncation=True, max_length=128)\n",
        ")"
      ]
    },
    {
      "cell_type": "code",
      "execution_count": null,
      "metadata": {
        "id": "ZWUeiXD3wlYg"
      },
      "outputs": [],
      "source": [
        "data['labels'] = data['Class Label Short'].map(class_mapping)"
      ]
    },
    {
      "cell_type": "code",
      "execution_count": null,
      "metadata": {
        "colab": {
          "base_uri": "https://localhost:8080/"
        },
        "execution": {
          "iopub.execute_input": "2025-01-09T06:35:17.970749Z",
          "iopub.status.busy": "2025-01-09T06:35:17.970274Z",
          "iopub.status.idle": "2025-01-09T06:35:17.989909Z",
          "shell.execute_reply": "2025-01-09T06:35:17.988246Z",
          "shell.execute_reply.started": "2025-01-09T06:35:17.970701Z"
        },
        "id": "Kg1fgRypKKfq",
        "outputId": "701779ce-dc06-475a-de49-fe553538fb74",
        "trusted": true
      },
      "outputs": [
        {
          "name": "stdout",
          "output_type": "stream",
          "text": [
            "Original Train shape:  (495, 6)\n",
            "Original Val shape:  (56, 6)\n"
          ]
        }
      ],
      "source": [
        "# Split the dataframe into train-val-test sets: 80-10-10 split\n",
        "from sklearn.model_selection import train_test_split\n",
        "train, val = train_test_split(data, test_size=0.1, stratify=data['labels'])\n",
        "print(\"Original Train shape: \", train.shape)\n",
        "print(\"Original Val shape: \", val.shape)"
      ]
    },
    {
      "cell_type": "code",
      "execution_count": null,
      "metadata": {
        "execution": {
          "iopub.execute_input": "2025-01-09T06:36:43.000222Z",
          "iopub.status.busy": "2025-01-09T06:36:42.999580Z",
          "iopub.status.idle": "2025-01-09T06:36:43.009151Z",
          "shell.execute_reply": "2025-01-09T06:36:43.007911Z",
          "shell.execute_reply.started": "2025-01-09T06:36:43.000178Z"
        },
        "id": "0kIrDkgHKKfr",
        "trusted": true
      },
      "outputs": [],
      "source": [
        "train['input_ids'] = train['tokenized_text'].apply(lambda x: x['input_ids'][0])\n",
        "val['input_ids'] = val['tokenized_text'].apply(lambda x: x['input_ids'][0])"
      ]
    },
    {
      "cell_type": "code",
      "execution_count": null,
      "metadata": {
        "execution": {
          "iopub.execute_input": "2025-01-09T06:36:45.403149Z",
          "iopub.status.busy": "2025-01-09T06:36:45.402744Z",
          "iopub.status.idle": "2025-01-09T06:36:45.426605Z",
          "shell.execute_reply": "2025-01-09T06:36:45.425047Z",
          "shell.execute_reply.started": "2025-01-09T06:36:45.403119Z"
        },
        "id": "ZTkhASrQKKfr",
        "trusted": true
      },
      "outputs": [],
      "source": [
        "train_inputs = [np.array(list(train['mfccs'])), np.array(list(train['input_ids']))]\n",
        "val_inputs = [np.array(list(val['mfccs'])), np.array(list(val['input_ids']))]\n",
        "\n",
        "train_labels = np.array(list(train['labels']))\n",
        "val_labels = np.array(list(val['labels']))\n"
      ]
    },
    {
      "cell_type": "code",
      "execution_count": null,
      "metadata": {
        "execution": {
          "iopub.execute_input": "2025-01-09T06:37:50.311356Z",
          "iopub.status.busy": "2025-01-09T06:37:50.310717Z",
          "iopub.status.idle": "2025-01-09T06:37:50.592430Z",
          "shell.execute_reply": "2025-01-09T06:37:50.591142Z",
          "shell.execute_reply.started": "2025-01-09T06:37:50.311314Z"
        },
        "id": "0eZqj2E_KKfr",
        "trusted": true
      },
      "outputs": [],
      "source": [
        "# Initialize the model\n",
        "model = Classifier(\n",
        "    num_layers=2,\n",
        "    d_model=128,\n",
        "    num_heads=4,\n",
        "    dff=256,\n",
        "    input_vocab_size=64000,\n",
        "    target_vocab_size=64000,\n",
        "    num_classes=5,\n",
        "    dropout_rate=0.1\n",
        ")\n",
        "\n",
        "# Compile the model\n",
        "model.compile(\n",
        "    optimizer=tf.keras.optimizers.Adam(learning_rate=1e-4),\n",
        "    loss='sparse_categorical_crossentropy',  # Use categorical_crossentropy since labels are one-hot encoded\n",
        "    metrics=['accuracy']\n",
        ")"
      ]
    },
    {
      "cell_type": "code",
      "execution_count": null,
      "metadata": {
        "colab": {
          "base_uri": "https://localhost:8080/"
        },
        "execution": {
          "iopub.execute_input": "2025-01-09T06:38:06.606751Z",
          "iopub.status.busy": "2025-01-09T06:38:06.606299Z",
          "iopub.status.idle": "2025-01-09T06:57:33.509524Z",
          "shell.execute_reply": "2025-01-09T06:57:33.508333Z",
          "shell.execute_reply.started": "2025-01-09T06:38:06.606713Z"
        },
        "id": "Odpcy1kJKKfr",
        "outputId": "6e89d003-fe6e-43a8-dfd4-9144afa59ce4",
        "trusted": true
      },
      "outputs": [
        {
          "name": "stdout",
          "output_type": "stream",
          "text": [
            "Epoch 1/20\n",
            "\u001b[1m16/16\u001b[0m \u001b[32m━━━━━━━━━━━━━━━━━━━━\u001b[0m\u001b[37m\u001b[0m \u001b[1m112s\u001b[0m 606ms/step - accuracy: 0.3564 - loss: 1.5516 - val_accuracy: 0.4643 - val_loss: 1.4478\n",
            "Epoch 2/20\n",
            "\u001b[1m16/16\u001b[0m \u001b[32m━━━━━━━━━━━━━━━━━━━━\u001b[0m\u001b[37m\u001b[0m \u001b[1m5s\u001b[0m 301ms/step - accuracy: 0.4666 - loss: 1.3395 - val_accuracy: 0.4464 - val_loss: 1.3927\n",
            "Epoch 3/20\n",
            "\u001b[1m16/16\u001b[0m \u001b[32m━━━━━━━━━━━━━━━━━━━━\u001b[0m\u001b[37m\u001b[0m \u001b[1m5s\u001b[0m 302ms/step - accuracy: 0.4982 - loss: 1.2867 - val_accuracy: 0.4464 - val_loss: 1.3973\n",
            "Epoch 4/20\n",
            "\u001b[1m16/16\u001b[0m \u001b[32m━━━━━━━━━━━━━━━━━━━━\u001b[0m\u001b[37m\u001b[0m \u001b[1m5s\u001b[0m 285ms/step - accuracy: 0.5313 - loss: 1.2216 - val_accuracy: 0.4821 - val_loss: 1.4230\n",
            "Epoch 5/20\n",
            "\u001b[1m16/16\u001b[0m \u001b[32m━━━━━━━━━━━━━━━━━━━━\u001b[0m\u001b[37m\u001b[0m \u001b[1m5s\u001b[0m 300ms/step - accuracy: 0.5308 - loss: 1.1781 - val_accuracy: 0.5357 - val_loss: 1.3000\n",
            "Epoch 6/20\n",
            "\u001b[1m16/16\u001b[0m \u001b[32m━━━━━━━━━━━━━━━━━━━━\u001b[0m\u001b[37m\u001b[0m \u001b[1m5s\u001b[0m 304ms/step - accuracy: 0.5951 - loss: 1.0808 - val_accuracy: 0.5000 - val_loss: 1.3021\n",
            "Epoch 7/20\n",
            "\u001b[1m16/16\u001b[0m \u001b[32m━━━━━━━━━━━━━━━━━━━━\u001b[0m\u001b[37m\u001b[0m \u001b[1m5s\u001b[0m 292ms/step - accuracy: 0.6123 - loss: 1.0435 - val_accuracy: 0.5357 - val_loss: 1.2253\n",
            "Epoch 8/20\n",
            "\u001b[1m16/16\u001b[0m \u001b[32m━━━━━━━━━━━━━━━━━━━━\u001b[0m\u001b[37m\u001b[0m \u001b[1m5s\u001b[0m 317ms/step - accuracy: 0.6517 - loss: 0.9318 - val_accuracy: 0.5357 - val_loss: 1.2632\n",
            "Epoch 9/20\n",
            "\u001b[1m16/16\u001b[0m \u001b[32m━━━━━━━━━━━━━━━━━━━━\u001b[0m\u001b[37m\u001b[0m \u001b[1m5s\u001b[0m 301ms/step - accuracy: 0.6917 - loss: 0.8740 - val_accuracy: 0.5536 - val_loss: 1.2580\n",
            "Epoch 10/20\n",
            "\u001b[1m16/16\u001b[0m \u001b[32m━━━━━━━━━━━━━━━━━━━━\u001b[0m\u001b[37m\u001b[0m \u001b[1m5s\u001b[0m 296ms/step - accuracy: 0.6979 - loss: 0.8377 - val_accuracy: 0.5893 - val_loss: 1.1998\n",
            "Epoch 11/20\n",
            "\u001b[1m16/16\u001b[0m \u001b[32m━━━━━━━━━━━━━━━━━━━━\u001b[0m\u001b[37m\u001b[0m \u001b[1m5s\u001b[0m 317ms/step - accuracy: 0.7113 - loss: 0.8010 - val_accuracy: 0.5714 - val_loss: 1.2144\n",
            "Epoch 12/20\n",
            "\u001b[1m16/16\u001b[0m \u001b[32m━━━━━━━━━━━━━━━━━━━━\u001b[0m\u001b[37m\u001b[0m \u001b[1m5s\u001b[0m 302ms/step - accuracy: 0.7362 - loss: 0.7295 - val_accuracy: 0.6250 - val_loss: 1.1159\n",
            "Epoch 13/20\n",
            "\u001b[1m16/16\u001b[0m \u001b[32m━━━━━━━━━━━━━━━━━━━━\u001b[0m\u001b[37m\u001b[0m \u001b[1m5s\u001b[0m 303ms/step - accuracy: 0.8093 - loss: 0.6028 - val_accuracy: 0.6786 - val_loss: 1.1157\n",
            "Epoch 14/20\n",
            "\u001b[1m16/16\u001b[0m \u001b[32m━━━━━━━━━━━━━━━━━━━━\u001b[0m\u001b[37m\u001b[0m \u001b[1m5s\u001b[0m 298ms/step - accuracy: 0.8300 - loss: 0.5414 - val_accuracy: 0.6607 - val_loss: 1.1752\n",
            "Epoch 15/20\n",
            "\u001b[1m16/16\u001b[0m \u001b[32m━━━━━━━━━━━━━━━━━━━━\u001b[0m\u001b[37m\u001b[0m \u001b[1m5s\u001b[0m 291ms/step - accuracy: 0.8355 - loss: 0.4676 - val_accuracy: 0.5714 - val_loss: 1.3452\n",
            "Epoch 16/20\n",
            "\u001b[1m16/16\u001b[0m \u001b[32m━━━━━━━━━━━━━━━━━━━━\u001b[0m\u001b[37m\u001b[0m \u001b[1m5s\u001b[0m 299ms/step - accuracy: 0.8707 - loss: 0.4200 - val_accuracy: 0.5893 - val_loss: 1.2236\n"
          ]
        }
      ],
      "source": [
        "callback = tf.keras.callbacks.EarlyStopping(monitor='val_loss',\n",
        "                                              patience=3)\n",
        "# Train the model\n",
        "history = model.fit(\n",
        "    train_inputs,\n",
        "    train_labels,\n",
        "    validation_data=(val_inputs, val_labels),\n",
        "    epochs=20,\n",
        "    callbacks=[callback],\n",
        "    batch_size=32\n",
        ")"
      ]
    },
    {
      "cell_type": "code",
      "execution_count": null,
      "metadata": {
        "colab": {
          "base_uri": "https://localhost:8080/"
        },
        "id": "dAd6lZoLx3-g",
        "outputId": "60b73f6c-8469-43a6-f620-b3472fbbbe04"
      },
      "outputs": [
        {
          "name": "stdout",
          "output_type": "stream",
          "text": [
            "\u001b[1m2/2\u001b[0m \u001b[32m━━━━━━━━━━━━━━━━━━━━\u001b[0m\u001b[37m\u001b[0m \u001b[1m0s\u001b[0m 172ms/step - accuracy: 0.6354 - loss: 1.1317\n",
            "Val Loss: 1.1943482160568237, Val Accuracy: 0.625\n"
          ]
        }
      ],
      "source": [
        "val_loss, val_accuracy = model.evaluate(val_inputs, val_labels)\n",
        "print(f\"Val Loss: {val_loss}, Val Accuracy: {val_accuracy}\")"
      ]
    },
    {
      "cell_type": "code",
      "execution_count": null,
      "metadata": {
        "colab": {
          "base_uri": "https://localhost:8080/"
        },
        "id": "aDjROMiox7rn",
        "outputId": "5e1a265f-bc04-475c-a32e-0ddc5be50df7"
      },
      "outputs": [
        {
          "name": "stdout",
          "output_type": "stream",
          "text": [
            "\u001b[1m2/2\u001b[0m \u001b[32m━━━━━━━━━━━━━━━━━━━━\u001b[0m\u001b[37m\u001b[0m \u001b[1m0s\u001b[0m 130ms/step\n",
            "Macro-Averaged F1-Score: 0.5146301067353699\n"
          ]
        }
      ],
      "source": [
        "from sklearn.metrics import f1_score\n",
        "# Make predictions on the test set\n",
        "pred_probs = model.predict(val_inputs)\n",
        "pred_labels = np.argmax(pred_probs, axis=-1)  # Convert probabilities to class labels\n",
        "\n",
        "# Compute macro-averaged F1-score\n",
        "macro_f1 = f1_score(val_labels, pred_labels, average='macro')\n",
        "print(f\"Macro-Averaged F1-Score: {macro_f1}\")"
      ]
    },
    {
      "cell_type": "code",
      "execution_count": null,
      "metadata": {},
      "outputs": [],
      "source": [
        "test = f'{root_dir}/telugu/telugu_test/text/TE-AT-test.xlsx'\n",
        "test = pd.read_excel(test)\n",
        "\n",
        "test.rename(columns={'File_Name': 'File Name'}, inplace=True)\n",
        "test['mfccs'] = test['File Name'].apply(lambda x: extract_mfcc(audio_file = x, language='telugu', dir='test'))\n",
        "\n",
        "test['tokenized_text'] = test['Transcript'].apply(lambda x: tokenizer(x, return_tensors=\"np\", padding='max_length', truncation=True, max_length=128))\n",
        "test['labels'] = test['Class Label '].map(class_mapping)\n",
        "test['input_ids'] = test['tokenized_text'].apply(lambda x: x['input_ids'][0])"
      ]
    },
    {
      "cell_type": "code",
      "execution_count": null,
      "metadata": {
        "colab": {
          "base_uri": "https://localhost:8080/",
          "height": 310
        },
        "id": "oudb_iLjxhxY",
        "outputId": "84c3584f-f6ac-4dde-9c4c-efcd5ded7631"
      },
      "outputs": [
        {
          "data": {
            "application/vnd.google.colaboratory.intrinsic+json": {
              "summary": "{\n  \"name\": \"test\",\n  \"rows\": 50,\n  \"fields\": [\n    {\n      \"column\": \"File Name\",\n      \"properties\": {\n        \"dtype\": \"string\",\n        \"num_unique_values\": 50,\n        \"samples\": [\n          \"TE_TE_014\",\n          \"TE_TE_040\",\n          \"TE_TE_031\"\n        ],\n        \"semantic_type\": \"\",\n        \"description\": \"\"\n      }\n    },\n    {\n      \"column\": \"Transcript\",\n      \"properties\": {\n        \"dtype\": \"string\",\n        \"num_unique_values\": 50,\n        \"samples\": [\n          \"\\u0c05\\u0c30\\u0c46 \\u0c28\\u0c41\\u0c35\\u0c4d\\u0c35\\u0c41 \\u0c15\\u0c4a\\u0c1c\\u0c4d\\u0c1c\\u0c3e\\u0c35\\u0c3f \\u0c28\\u0c41\\u0c35\\u0c4d\\u0c35\\u0c41 \\u0c35\\u0c38\\u0c4d\\u0c24\\u0c47 \\u0c2e\\u0c3e \\u0c39\\u0c4b\\u0c1f\\u0c32\\u0c4d \\u0c15\\u0c3f \\u0c0e\\u0c35\\u0c30\\u0c41 \\u0c30\\u0c3e\\u0c2e\\u0c28\\u0c4d\\u0c28\\u0c3e\\u0c30\\u0c41\",\n          \"\\u0c08 \\u0c28\\u0c3f\\u0c2d\\u0c3e\\u0c17\\u0c3e\\u0c32\\u0c41 \\u0c05\\u0c02\\u0c26\\u0c30\\u0c42 \\u0c0e\\u0c32\\u0c3e\\u0c02\\u0c1f\\u0c3f \\u0c35\\u0c3e\\u0c33\\u0c4d\\u0c33\\u0c41 \\u0c30\\u0c3e \\u0c05\\u0c02\\u0c1f\\u0c47 \\u0c17\\u0c41\\u0c26\\u0c4d\\u0c26\\u0c32\\u0c4b \\u0c32\\u0c35\\u0c02\\u0c17\\u0c02 \\u0c2a\\u0c46\\u0c1f\\u0c4d\\u0c1f\\u0c41\\u0c15\\u0c41\\u0c02\\u0c1f\\u0c47 \\u0c32\\u0c3e\\u0c35\\u0c23\\u0c4d\\u0c2f \\u0c24\\u0c4d\\u0c30\\u0c3f\\u0c2a\\u0c3e\\u0c20\\u0c3f \\u0c2a\\u0c46\\u0c33\\u0c4d\\u0c32\\u0c02\\u0c17\\u0c3e \\u0c35\\u0c1a\\u0c4d\\u0c1a\\u0c47\\u0c38\\u0c4d\\u0c24\\u0c26\\u0c3f \\u0c05\\u0c28\\u0c41\\u0c15\\u0c41\\u0c28\\u0c47  \\u0c28\\u0c3e \\u0c15\\u0c4a\\u0c21\\u0c41\\u0c15\\u0c41\\u0c32\\u0c41 \\u0c1a\\u0c46\\u0c24\\u0c4d\\u0c24\\u0c17\\u0c3e\\u0c32\\u0c4d\\u0c32\\u0c26\\u0c3f\",\n          \"\\u0c1a\\u0c02\\u0c26\\u0c4d\\u0c30\\u0c2c\\u0c3e\\u0c2c\\u0c41 \\u0c28\\u0c3e\\u0c2f\\u0c41\\u0c21\\u0c41\\u0c15\\u0c3f \\u0c1a\\u0c3f\\u0c28\\u0c4d\\u0c28 \\u0c2e\\u0c46\\u0c26\\u0c21\\u0c41 \\u0c1a\\u0c3f\\u0c24\\u0c3f\\u0c15\\u0c3f\\u0c2a\\u0c4b\\u0c2f\\u0c3f\\u0c02\\u0c26\\u0c3f \\u0c05\\u0c28\\u0c3f \\u0c2e\\u0c3e\\u0c24\\u0c4d\\u0c30\\u0c02 \\u0c06\\u0c2f\\u0c28 \\u0c2e\\u0c3e\\u0c1f\\u0c32\\u0c41 \\u0c38\\u0c4d\\u0c2a\\u0c37\\u0c4d\\u0c1f\\u0c02\\u0c17\\u0c3e \\u0c05\\u0c30\\u0c4d\\u0c25\\u0c2e\\u0c48\\u0c02\\u0c26\\u0c3f \\u0c06\\u0c2f\\u0c28 \\u0c21\\u0c3e\\u0c15\\u0c4d\\u0c1f\\u0c30\\u0c4d \\u0c15\\u0c3f \\u0c1a\\u0c42\\u0c2a\\u0c3f\\u0c38\\u0c4d\\u0c24\\u0c47 \\u0c1a\\u0c3e\\u0c32\\u0c3e \\u0c2e\\u0c02\\u0c1a\\u0c3f\\u0c26\\u0c3f\"\n        ],\n        \"semantic_type\": \"\",\n        \"description\": \"\"\n      }\n    },\n    {\n      \"column\": \"Class Label \",\n      \"properties\": {\n        \"dtype\": \"category\",\n        \"num_unique_values\": 5,\n        \"samples\": [\n          \"P\",\n          \"N\",\n          \"G\"\n        ],\n        \"semantic_type\": \"\",\n        \"description\": \"\"\n      }\n    },\n    {\n      \"column\": \"mfccs\",\n      \"properties\": {\n        \"dtype\": \"object\",\n        \"semantic_type\": \"\",\n        \"description\": \"\"\n      }\n    },\n    {\n      \"column\": \"tokenized_text\",\n      \"properties\": {\n        \"dtype\": \"object\",\n        \"semantic_type\": \"\",\n        \"description\": \"\"\n      }\n    },\n    {\n      \"column\": \"labels\",\n      \"properties\": {\n        \"dtype\": \"number\",\n        \"std\": 1,\n        \"min\": 0,\n        \"max\": 4,\n        \"num_unique_values\": 5,\n        \"samples\": [\n          1,\n          4,\n          0\n        ],\n        \"semantic_type\": \"\",\n        \"description\": \"\"\n      }\n    },\n    {\n      \"column\": \"input_ids\",\n      \"properties\": {\n        \"dtype\": \"object\",\n        \"semantic_type\": \"\",\n        \"description\": \"\"\n      }\n    }\n  ]\n}",
              "type": "dataframe",
              "variable_name": "test"
            },
            "text/html": [
              "\n",
              "  <div id=\"df-3ae9830d-46b6-4374-b83e-d602a1d50cdc\" class=\"colab-df-container\">\n",
              "    <div>\n",
              "<style scoped>\n",
              "    .dataframe tbody tr th:only-of-type {\n",
              "        vertical-align: middle;\n",
              "    }\n",
              "\n",
              "    .dataframe tbody tr th {\n",
              "        vertical-align: top;\n",
              "    }\n",
              "\n",
              "    .dataframe thead th {\n",
              "        text-align: right;\n",
              "    }\n",
              "</style>\n",
              "<table border=\"1\" class=\"dataframe\">\n",
              "  <thead>\n",
              "    <tr style=\"text-align: right;\">\n",
              "      <th></th>\n",
              "      <th>File Name</th>\n",
              "      <th>Transcript</th>\n",
              "      <th>Class Label</th>\n",
              "      <th>mfccs</th>\n",
              "      <th>tokenized_text</th>\n",
              "      <th>labels</th>\n",
              "      <th>input_ids</th>\n",
              "    </tr>\n",
              "  </thead>\n",
              "  <tbody>\n",
              "    <tr>\n",
              "      <th>0</th>\n",
              "      <td>TE_TE_001</td>\n",
              "      <td>ఎస్సీలుగా పుట్టాలని ఎవరు కోరుకుంటారు</td>\n",
              "      <td>R</td>\n",
              "      <td>[[-538.6989, 0.28734857, 0.24082115, 0.1740721...</td>\n",
              "      <td>[input_ids, token_type_ids, attention_mask]</td>\n",
              "      <td>2</td>\n",
              "      <td>[2, 41, 61952, 59863, 59550, 59863, 60571, 597...</td>\n",
              "    </tr>\n",
              "    <tr>\n",
              "      <th>1</th>\n",
              "      <td>TE_TE_002</td>\n",
              "      <td>ఎవరు మాత్రం SC కులంలో పుట్టాలని కోరుకుంటారు అం...</td>\n",
              "      <td>R</td>\n",
              "      <td>[[-548.9849, 0.0, 0.0, 0.0, 0.0, 0.0, 0.0, 0.0...</td>\n",
              "      <td>[input_ids, token_type_ids, attention_mask]</td>\n",
              "      <td>2</td>\n",
              "      <td>[2, 41, 61952, 60708, 59830, 59758, 41, 60465,...</td>\n",
              "    </tr>\n",
              "    <tr>\n",
              "      <th>2</th>\n",
              "      <td>TE_TE_003</td>\n",
              "      <td>హిందువల కోసం కట్టిన పుష్కరఘాట్లో పబ్లిక్ గ మతమ...</td>\n",
              "      <td>R</td>\n",
              "      <td>[[-513.0835, 63.628677, 49.77363, 35.49523, 25...</td>\n",
              "      <td>[input_ids, token_type_ids, attention_mask]</td>\n",
              "      <td>2</td>\n",
              "      <td>[2, 41, 61206, 59831, 60175, 60477, 59758, 607...</td>\n",
              "    </tr>\n",
              "    <tr>\n",
              "      <th>3</th>\n",
              "      <td>TE_TE_004</td>\n",
              "      <td>కొన్ని వందల వేల సంవత్సరాల నుంచి క్రైస్తవులు ప్...</td>\n",
              "      <td>R</td>\n",
              "      <td>[[-380.41415, 120.18034, 22.325361, 19.686886,...</td>\n",
              "      <td>[input_ids, token_type_ids, attention_mask]</td>\n",
              "      <td>2</td>\n",
              "      <td>[2, 41, 60059, 60716, 60085, 59550, 60085, 598...</td>\n",
              "    </tr>\n",
              "    <tr>\n",
              "      <th>4</th>\n",
              "      <td>TE_TE_005</td>\n",
              "      <td>ఇందుమూలముగా సో మంచి సంపూర్ణమైన క్యాస్టు సిస్టమ...</td>\n",
              "      <td>R</td>\n",
              "      <td>[[-459.5935, 90.28745, 38.36905, 10.045397, 9....</td>\n",
              "      <td>[input_ids, token_type_ids, attention_mask]</td>\n",
              "      <td>2</td>\n",
              "      <td>[2, 41, 62834, 60175, 60477, 59758, 60465, 606...</td>\n",
              "    </tr>\n",
              "  </tbody>\n",
              "</table>\n",
              "</div>\n",
              "    <div class=\"colab-df-buttons\">\n",
              "\n",
              "  <div class=\"colab-df-container\">\n",
              "    <button class=\"colab-df-convert\" onclick=\"convertToInteractive('df-3ae9830d-46b6-4374-b83e-d602a1d50cdc')\"\n",
              "            title=\"Convert this dataframe to an interactive table.\"\n",
              "            style=\"display:none;\">\n",
              "\n",
              "  <svg xmlns=\"http://www.w3.org/2000/svg\" height=\"24px\" viewBox=\"0 -960 960 960\">\n",
              "    <path d=\"M120-120v-720h720v720H120Zm60-500h600v-160H180v160Zm220 220h160v-160H400v160Zm0 220h160v-160H400v160ZM180-400h160v-160H180v160Zm440 0h160v-160H620v160ZM180-180h160v-160H180v160Zm440 0h160v-160H620v160Z\"/>\n",
              "  </svg>\n",
              "    </button>\n",
              "\n",
              "  <style>\n",
              "    .colab-df-container {\n",
              "      display:flex;\n",
              "      gap: 12px;\n",
              "    }\n",
              "\n",
              "    .colab-df-convert {\n",
              "      background-color: #E8F0FE;\n",
              "      border: none;\n",
              "      border-radius: 50%;\n",
              "      cursor: pointer;\n",
              "      display: none;\n",
              "      fill: #1967D2;\n",
              "      height: 32px;\n",
              "      padding: 0 0 0 0;\n",
              "      width: 32px;\n",
              "    }\n",
              "\n",
              "    .colab-df-convert:hover {\n",
              "      background-color: #E2EBFA;\n",
              "      box-shadow: 0px 1px 2px rgba(60, 64, 67, 0.3), 0px 1px 3px 1px rgba(60, 64, 67, 0.15);\n",
              "      fill: #174EA6;\n",
              "    }\n",
              "\n",
              "    .colab-df-buttons div {\n",
              "      margin-bottom: 4px;\n",
              "    }\n",
              "\n",
              "    [theme=dark] .colab-df-convert {\n",
              "      background-color: #3B4455;\n",
              "      fill: #D2E3FC;\n",
              "    }\n",
              "\n",
              "    [theme=dark] .colab-df-convert:hover {\n",
              "      background-color: #434B5C;\n",
              "      box-shadow: 0px 1px 3px 1px rgba(0, 0, 0, 0.15);\n",
              "      filter: drop-shadow(0px 1px 2px rgba(0, 0, 0, 0.3));\n",
              "      fill: #FFFFFF;\n",
              "    }\n",
              "  </style>\n",
              "\n",
              "    <script>\n",
              "      const buttonEl =\n",
              "        document.querySelector('#df-3ae9830d-46b6-4374-b83e-d602a1d50cdc button.colab-df-convert');\n",
              "      buttonEl.style.display =\n",
              "        google.colab.kernel.accessAllowed ? 'block' : 'none';\n",
              "\n",
              "      async function convertToInteractive(key) {\n",
              "        const element = document.querySelector('#df-3ae9830d-46b6-4374-b83e-d602a1d50cdc');\n",
              "        const dataTable =\n",
              "          await google.colab.kernel.invokeFunction('convertToInteractive',\n",
              "                                                    [key], {});\n",
              "        if (!dataTable) return;\n",
              "\n",
              "        const docLinkHtml = 'Like what you see? Visit the ' +\n",
              "          '<a target=\"_blank\" href=https://colab.research.google.com/notebooks/data_table.ipynb>data table notebook</a>'\n",
              "          + ' to learn more about interactive tables.';\n",
              "        element.innerHTML = '';\n",
              "        dataTable['output_type'] = 'display_data';\n",
              "        await google.colab.output.renderOutput(dataTable, element);\n",
              "        const docLink = document.createElement('div');\n",
              "        docLink.innerHTML = docLinkHtml;\n",
              "        element.appendChild(docLink);\n",
              "      }\n",
              "    </script>\n",
              "  </div>\n",
              "\n",
              "\n",
              "<div id=\"df-0aba2e23-7b97-4865-945e-76be3d8dd67c\">\n",
              "  <button class=\"colab-df-quickchart\" onclick=\"quickchart('df-0aba2e23-7b97-4865-945e-76be3d8dd67c')\"\n",
              "            title=\"Suggest charts\"\n",
              "            style=\"display:none;\">\n",
              "\n",
              "<svg xmlns=\"http://www.w3.org/2000/svg\" height=\"24px\"viewBox=\"0 0 24 24\"\n",
              "     width=\"24px\">\n",
              "    <g>\n",
              "        <path d=\"M19 3H5c-1.1 0-2 .9-2 2v14c0 1.1.9 2 2 2h14c1.1 0 2-.9 2-2V5c0-1.1-.9-2-2-2zM9 17H7v-7h2v7zm4 0h-2V7h2v10zm4 0h-2v-4h2v4z\"/>\n",
              "    </g>\n",
              "</svg>\n",
              "  </button>\n",
              "\n",
              "<style>\n",
              "  .colab-df-quickchart {\n",
              "      --bg-color: #E8F0FE;\n",
              "      --fill-color: #1967D2;\n",
              "      --hover-bg-color: #E2EBFA;\n",
              "      --hover-fill-color: #174EA6;\n",
              "      --disabled-fill-color: #AAA;\n",
              "      --disabled-bg-color: #DDD;\n",
              "  }\n",
              "\n",
              "  [theme=dark] .colab-df-quickchart {\n",
              "      --bg-color: #3B4455;\n",
              "      --fill-color: #D2E3FC;\n",
              "      --hover-bg-color: #434B5C;\n",
              "      --hover-fill-color: #FFFFFF;\n",
              "      --disabled-bg-color: #3B4455;\n",
              "      --disabled-fill-color: #666;\n",
              "  }\n",
              "\n",
              "  .colab-df-quickchart {\n",
              "    background-color: var(--bg-color);\n",
              "    border: none;\n",
              "    border-radius: 50%;\n",
              "    cursor: pointer;\n",
              "    display: none;\n",
              "    fill: var(--fill-color);\n",
              "    height: 32px;\n",
              "    padding: 0;\n",
              "    width: 32px;\n",
              "  }\n",
              "\n",
              "  .colab-df-quickchart:hover {\n",
              "    background-color: var(--hover-bg-color);\n",
              "    box-shadow: 0 1px 2px rgba(60, 64, 67, 0.3), 0 1px 3px 1px rgba(60, 64, 67, 0.15);\n",
              "    fill: var(--button-hover-fill-color);\n",
              "  }\n",
              "\n",
              "  .colab-df-quickchart-complete:disabled,\n",
              "  .colab-df-quickchart-complete:disabled:hover {\n",
              "    background-color: var(--disabled-bg-color);\n",
              "    fill: var(--disabled-fill-color);\n",
              "    box-shadow: none;\n",
              "  }\n",
              "\n",
              "  .colab-df-spinner {\n",
              "    border: 2px solid var(--fill-color);\n",
              "    border-color: transparent;\n",
              "    border-bottom-color: var(--fill-color);\n",
              "    animation:\n",
              "      spin 1s steps(1) infinite;\n",
              "  }\n",
              "\n",
              "  @keyframes spin {\n",
              "    0% {\n",
              "      border-color: transparent;\n",
              "      border-bottom-color: var(--fill-color);\n",
              "      border-left-color: var(--fill-color);\n",
              "    }\n",
              "    20% {\n",
              "      border-color: transparent;\n",
              "      border-left-color: var(--fill-color);\n",
              "      border-top-color: var(--fill-color);\n",
              "    }\n",
              "    30% {\n",
              "      border-color: transparent;\n",
              "      border-left-color: var(--fill-color);\n",
              "      border-top-color: var(--fill-color);\n",
              "      border-right-color: var(--fill-color);\n",
              "    }\n",
              "    40% {\n",
              "      border-color: transparent;\n",
              "      border-right-color: var(--fill-color);\n",
              "      border-top-color: var(--fill-color);\n",
              "    }\n",
              "    60% {\n",
              "      border-color: transparent;\n",
              "      border-right-color: var(--fill-color);\n",
              "    }\n",
              "    80% {\n",
              "      border-color: transparent;\n",
              "      border-right-color: var(--fill-color);\n",
              "      border-bottom-color: var(--fill-color);\n",
              "    }\n",
              "    90% {\n",
              "      border-color: transparent;\n",
              "      border-bottom-color: var(--fill-color);\n",
              "    }\n",
              "  }\n",
              "</style>\n",
              "\n",
              "  <script>\n",
              "    async function quickchart(key) {\n",
              "      const quickchartButtonEl =\n",
              "        document.querySelector('#' + key + ' button');\n",
              "      quickchartButtonEl.disabled = true;  // To prevent multiple clicks.\n",
              "      quickchartButtonEl.classList.add('colab-df-spinner');\n",
              "      try {\n",
              "        const charts = await google.colab.kernel.invokeFunction(\n",
              "            'suggestCharts', [key], {});\n",
              "      } catch (error) {\n",
              "        console.error('Error during call to suggestCharts:', error);\n",
              "      }\n",
              "      quickchartButtonEl.classList.remove('colab-df-spinner');\n",
              "      quickchartButtonEl.classList.add('colab-df-quickchart-complete');\n",
              "    }\n",
              "    (() => {\n",
              "      let quickchartButtonEl =\n",
              "        document.querySelector('#df-0aba2e23-7b97-4865-945e-76be3d8dd67c button');\n",
              "      quickchartButtonEl.style.display =\n",
              "        google.colab.kernel.accessAllowed ? 'block' : 'none';\n",
              "    })();\n",
              "  </script>\n",
              "</div>\n",
              "\n",
              "    </div>\n",
              "  </div>\n"
            ],
            "text/plain": [
              "   File Name                                         Transcript Class Label   \\\n",
              "0  TE_TE_001               ఎస్సీలుగా పుట్టాలని ఎవరు కోరుకుంటారు            R   \n",
              "1  TE_TE_002  ఎవరు మాత్రం SC కులంలో పుట్టాలని కోరుకుంటారు అం...            R   \n",
              "2  TE_TE_003  హిందువల కోసం కట్టిన పుష్కరఘాట్లో పబ్లిక్ గ మతమ...            R   \n",
              "3  TE_TE_004  కొన్ని వందల వేల సంవత్సరాల నుంచి క్రైస్తవులు ప్...            R   \n",
              "4  TE_TE_005  ఇందుమూలముగా సో మంచి సంపూర్ణమైన క్యాస్టు సిస్టమ...            R   \n",
              "\n",
              "                                               mfccs  \\\n",
              "0  [[-538.6989, 0.28734857, 0.24082115, 0.1740721...   \n",
              "1  [[-548.9849, 0.0, 0.0, 0.0, 0.0, 0.0, 0.0, 0.0...   \n",
              "2  [[-513.0835, 63.628677, 49.77363, 35.49523, 25...   \n",
              "3  [[-380.41415, 120.18034, 22.325361, 19.686886,...   \n",
              "4  [[-459.5935, 90.28745, 38.36905, 10.045397, 9....   \n",
              "\n",
              "                                tokenized_text  labels  \\\n",
              "0  [input_ids, token_type_ids, attention_mask]       2   \n",
              "1  [input_ids, token_type_ids, attention_mask]       2   \n",
              "2  [input_ids, token_type_ids, attention_mask]       2   \n",
              "3  [input_ids, token_type_ids, attention_mask]       2   \n",
              "4  [input_ids, token_type_ids, attention_mask]       2   \n",
              "\n",
              "                                           input_ids  \n",
              "0  [2, 41, 61952, 59863, 59550, 59863, 60571, 597...  \n",
              "1  [2, 41, 61952, 60708, 59830, 59758, 41, 60465,...  \n",
              "2  [2, 41, 61206, 59831, 60175, 60477, 59758, 607...  \n",
              "3  [2, 41, 60059, 60716, 60085, 59550, 60085, 598...  \n",
              "4  [2, 41, 62834, 60175, 60477, 59758, 60465, 606...  "
            ]
          },
          "execution_count": 78,
          "metadata": {},
          "output_type": "execute_result"
        }
      ],
      "source": [
        "test.head()"
      ]
    },
    {
      "cell_type": "code",
      "execution_count": null,
      "metadata": {},
      "outputs": [],
      "source": [
        "test_data_inputs = [np.array(list(test['mfccs'])), np.array(list(test['input_ids']))]\n",
        "test_labels = np.array(list(test['labels']))"
      ]
    },
    {
      "cell_type": "code",
      "execution_count": null,
      "metadata": {
        "colab": {
          "base_uri": "https://localhost:8080/"
        },
        "execution": {
          "iopub.execute_input": "2025-01-09T06:57:46.543801Z",
          "iopub.status.busy": "2025-01-09T06:57:46.543277Z",
          "iopub.status.idle": "2025-01-09T06:57:50.333120Z",
          "shell.execute_reply": "2025-01-09T06:57:50.331912Z",
          "shell.execute_reply.started": "2025-01-09T06:57:46.543691Z"
        },
        "id": "37AtLLAiKKfs",
        "outputId": "4181ec20-42a3-4205-8b3d-27d0a3235c29",
        "trusted": true
      },
      "outputs": [
        {
          "name": "stdout",
          "output_type": "stream",
          "text": [
            "\u001b[1m2/2\u001b[0m \u001b[32m━━━━━━━━━━━━━━━━━━━━\u001b[0m\u001b[37m\u001b[0m \u001b[1m0s\u001b[0m 122ms/step - accuracy: 0.1779 - loss: 2.9323\n",
            "Test Loss: 2.706005573272705, Test Accuracy: 0.2199999988079071\n"
          ]
        }
      ],
      "source": [
        "# Evaluate the model\n",
        "test_loss, test_accuracy = model.evaluate(test_data_inputs, test_labels)\n",
        "print(f\"Test Loss: {test_loss}, Test Accuracy: {test_accuracy}\")"
      ]
    },
    {
      "cell_type": "code",
      "execution_count": null,
      "metadata": {
        "colab": {
          "base_uri": "https://localhost:8080/"
        },
        "execution": {
          "iopub.execute_input": "2025-01-09T06:58:06.771592Z",
          "iopub.status.busy": "2025-01-09T06:58:06.771152Z",
          "iopub.status.idle": "2025-01-09T06:58:18.309814Z",
          "shell.execute_reply": "2025-01-09T06:58:18.308372Z",
          "shell.execute_reply.started": "2025-01-09T06:58:06.771560Z"
        },
        "id": "XFqjb1mfKKfs",
        "outputId": "61f56b65-1ffa-45d4-e7e1-6bbeae493e60",
        "trusted": true
      },
      "outputs": [
        {
          "name": "stdout",
          "output_type": "stream",
          "text": [
            "\r\u001b[1m1/2\u001b[0m \u001b[32m━━━━━━━━━━\u001b[0m\u001b[37m━━━━━━━━━━\u001b[0m \u001b[1m6s\u001b[0m 7s/step"
          ]
        },
        {
          "name": "stderr",
          "output_type": "stream",
          "text": [
            "WARNING:tensorflow:5 out of the last 13 calls to <function TensorFlowTrainer.make_predict_function.<locals>.one_step_on_data_distributed at 0x7c6cf1068cc0> triggered tf.function retracing. Tracing is expensive and the excessive number of tracings could be due to (1) creating @tf.function repeatedly in a loop, (2) passing tensors with different shapes, (3) passing Python objects instead of tensors. For (1), please define your @tf.function outside of the loop. For (2), @tf.function has reduce_retracing=True option that can avoid unnecessary retracing. For (3), please refer to https://www.tensorflow.org/guide/function#controlling_retracing and https://www.tensorflow.org/api_docs/python/tf/function for  more details.\n"
          ]
        },
        {
          "name": "stdout",
          "output_type": "stream",
          "text": [
            "\u001b[1m2/2\u001b[0m \u001b[32m━━━━━━━━━━━━━━━━━━━━\u001b[0m\u001b[37m\u001b[0m \u001b[1m11s\u001b[0m 5s/step\n",
            "Macro-Averaged F1-Score: 0.1828167256084876\n"
          ]
        }
      ],
      "source": [
        "from sklearn.metrics import f1_score\n",
        "# Make predictions on the test set\n",
        "pred_probs = model.predict(test_data_inputs)\n",
        "pred_labels = np.argmax(pred_probs, axis=-1)  # Convert probabilities to class labels\n",
        "\n",
        "# Compute macro-averaged F1-score\n",
        "macro_f1 = f1_score(test_labels, pred_labels, average='macro')\n",
        "print(f\"Macro-Averaged F1-Score: {macro_f1}\")"
      ]
    }
  ],
  "metadata": {
    "accelerator": "GPU",
    "colab": {
      "gpuType": "T4",
      "provenance": []
    },
    "kaggle": {
      "accelerator": "nvidiaTeslaT4",
      "dataSources": [
        {
          "datasetId": 6412136,
          "sourceId": 10403756,
          "sourceType": "datasetVersion"
        }
      ],
      "dockerImageVersionId": 30822,
      "isGpuEnabled": true,
      "isInternetEnabled": true,
      "language": "python",
      "sourceType": "notebook"
    },
    "kernelspec": {
      "display_name": "Python 3",
      "name": "python3"
    },
    "language_info": {
      "codemirror_mode": {
        "name": "ipython",
        "version": 3
      },
      "file_extension": ".py",
      "mimetype": "text/x-python",
      "name": "python",
      "nbconvert_exporter": "python",
      "pygments_lexer": "ipython3",
      "version": "3.10.12"
    }
  },
  "nbformat": 4,
  "nbformat_minor": 0
}
